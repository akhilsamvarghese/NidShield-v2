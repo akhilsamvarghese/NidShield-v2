{
 "cells": [
  {
   "cell_type": "code",
   "execution_count": 1,
   "metadata": {},
   "outputs": [],
   "source": [
    "import os\n",
    "import pandas as pd\n",
    "import numpy as np\n",
    "import matplotlib.pyplot as plt\n",
    "import seaborn as sns\n",
    "import time\n",
    "import pickle"
   ]
  },
  {
   "cell_type": "code",
   "execution_count": null,
   "metadata": {},
   "outputs": [],
   "source": [
    "# Load the saved model\n",
    "GB_exported = pickle.load(open('/Users/akhilsamvarghese/Desktop/Projects/NIDSv2/ML-Model/GB', 'rb'))\n",
    "DE=(\" Detected on the host network\")"
   ]
  },
  {
   "cell_type": "code",
   "execution_count": 5,
   "metadata": {},
   "outputs": [],
   "source": [
    "data = pd.DataFrame({\n",
    "    'duration': [123],\n",
    "    'protocol_type': ['tcp'],\n",
    "    'flag': ['S0'],\n",
    "    'src_bytes': [100],\n",
    "    'dst_bytes': [200],\n",
    "    'land': [0],\n",
    "    'wrong_fragment': [0],\n",
    "    'urgent': [0],\n",
    "    'hot': [0],\n",
    "    'num_failed_logins': [0],\n",
    "    'logged_in': [0],\n",
    "    'num_compromised': [0],\n",
    "    'root_shell': [0],\n",
    "    'su_attempted': [0],\n",
    "    'num_file_creations': [0],\n",
    "    'num_shells': [0],\n",
    "    'num_access_files': [0],\n",
    "    'num_outbound_cmds': [0],\n",
    "    'is_host_login': [0],\n",
    "    'is_guest_login': [0],\n",
    "    'count': [10],\n",
    "    'srv_count': [10],\n",
    "    'serror_rate': [0],\n",
    "    'rerror_rate': [0],\n",
    "    \n",
    "    'same_srv_rate': [0],\n",
    "    'diff_srv_rate': [0],\n",
    "    'srv_diff_host_rate': [0],\n",
    "    'dst_host_count': [1],\n",
    "    'dst_host_srv_count': [1],\n",
    "    \n",
    "    'dst_host_diff_srv_rate': [0],\n",
    "    'dst_host_same_src_port_rate': [0],\n",
    "    'dst_host_srv_diff_host_rate': [0],\n",
    "    \n",
    "\n",
    "    \n",
    "    \n",
    "})\n",
    "\n"
   ]
  },
  {
   "cell_type": "code",
   "execution_count": 6,
   "metadata": {},
   "outputs": [],
   "source": [
    "data.to_pickle(\"sample.df\")"
   ]
  },
  {
   "cell_type": "code",
   "execution_count": 7,
   "metadata": {},
   "outputs": [],
   "source": [
    "from_sample = pd.read_pickle(\"sample.df\")"
   ]
  },
  {
   "cell_type": "code",
   "execution_count": null,
   "metadata": {},
   "outputs": [],
   "source": [
    "print(from_sample)"
   ]
  },
  {
   "cell_type": "code",
   "execution_count": 9,
   "metadata": {},
   "outputs": [],
   "source": [
    "data1 = pd.DataFrame({\n",
    "    'duration': [0],\n",
    "    'protocol_type': [1],\n",
    "    'flag': [1],\n",
    "    'src_bytes': [0],\n",
    "    'dst_bytes': [0],\n",
    "    'land': [0],\n",
    "    'wrong_fragment': [0],\n",
    "    'urgent': [0],\n",
    "    'hot': [0],\n",
    "    'num_failed_logins': [0],\n",
    "    'logged_in': [0],\n",
    "    'num_compromised': [0],\n",
    "    'root_shell': [0],\n",
    "    'su_attempted': [0],\n",
    "    'num_file_creations': [0],\n",
    "    'num_shells': [0],\n",
    "    'num_access_files': [0],\n",
    "    'num_outbound_cmds': [0],\n",
    "    'is_host_login': [0],\n",
    "    'is_guest_login': [6],\n",
    "    'count': [10],\n",
    "    'srv_count': [5],\n",
    "    'serror_rate': [0.83],\n",
    "    'rerror_rate': [0.0],\n",
    "    \n",
    "    'same_srv_rate': [0.83],\n",
    "    'diff_srv_rate': [0.33],\n",
    "    'srv_diff_host_rate': [0.0],\n",
    "    'dst_host_count': [5],\n",
    "    'dst_host_srv_count': [6],\n",
    "    \n",
    "    'dst_host_diff_srv_rate': [0.0],\n",
    "    'dst_host_same_src_port_rate': [0.2],\n",
    "    'dst_host_srv_diff_host_rate': [0.33],\n",
    "    \n",
    "\n",
    "    \n",
    "    \n",
    "})\n",
    "\n",
    "\n",
    "\n",
    "\t"
   ]
  },
  {
   "cell_type": "code",
   "execution_count": 10,
   "metadata": {},
   "outputs": [],
   "source": [
    "data1.to_pickle(\"sample1.df\")"
   ]
  },
  {
   "cell_type": "code",
   "execution_count": 11,
   "metadata": {},
   "outputs": [],
   "source": [
    "from_sample = pd.read_pickle(\"sample.df\")"
   ]
  },
  {
   "cell_type": "code",
   "execution_count": 12,
   "metadata": {},
   "outputs": [],
   "source": [
    "\n",
    "\n",
    "data2 = pd.DataFrame({\n",
    "    'duration': [1],\n",
    "    'protocol_type': [2],\n",
    "    'flag': [3],\n",
    "    'src_bytes': [100],\n",
    "    'dst_bytes': [200],\n",
    "    'land': [0],\n",
    "    'wrong_fragment': [1],\n",
    "    'urgent': [2],\n",
    "    'hot': [3],\n",
    "    'num_failed_logins': [4],\n",
    "    'logged_in': [1],\n",
    "    'num_compromised': [2],\n",
    "    'root_shell': [1],\n",
    "    'su_attempted': [0],\n",
    "    'num_file_creations': [1],\n",
    "    'num_shells': [0],\n",
    "    'num_access_files': [1],\n",
    "    'num_outbound_cmds': [0],\n",
    "    'is_host_login': [0],\n",
    "    'is_guest_login': [7],\n",
    "    'count': [15],\n",
    "    'srv_count': [10],\n",
    "    'serror_rate': [0.75],\n",
    "    'rerror_rate': [0.1],\n",
    "    'same_srv_rate': [0.75],\n",
    "    'diff_srv_rate': [0.25],\n",
    "    'srv_diff_host_rate': [0.1],\n",
    "    'dst_host_count': [10],\n",
    "    'dst_host_srv_count': [12],\n",
    "    'dst_host_diff_srv_rate': [0.1],\n",
    "    'dst_host_same_src_port_rate': [0.3],\n",
    "    'dst_host_srv_diff_host_rate': [0.25]\n",
    "})\n",
    "\n",
    "\n"
   ]
  },
  {
   "cell_type": "code",
   "execution_count": 13,
   "metadata": {},
   "outputs": [],
   "source": [
    "data_normal = pd.DataFrame({\n",
    "    'duration': [0],               # Normal connection durations can vary, so leave as is\n",
    "    'protocol_type': [1],          # TCP protocol, common in normal connections\n",
    "    'flag': [1],                   # Normal connection flag\n",
    "    'src_bytes': [500],            # Moderate amount of bytes sent\n",
    "    'dst_bytes': [1000],           # Moderate amount of bytes received\n",
    "    'land': [0],                   # Land attack not present\n",
    "    'wrong_fragment': [0],         # No wrong fragments\n",
    "    'urgent': [0],                 # No urgent packets\n",
    "    'hot': [0],                    # No hot indicators\n",
    "    'num_failed_logins': [0],      # No failed logins\n",
    "    'logged_in': [1],              # User is logged in\n",
    "    'num_compromised': [0],        # No compromised systems\n",
    "    'root_shell': [0],             # No root shell obtained\n",
    "    'su_attempted': [0],           # No su attempts\n",
    "    'num_file_creations': [0],     # No file creations\n",
    "    'num_shells': [0],             # No shells opened\n",
    "    'num_access_files': [0],       # No access files\n",
    "    'num_outbound_cmds': [0],      # No outbound commands\n",
    "    'is_host_login': [0],          # Not a host login\n",
    "    'is_guest_login': [0],         # Not a guest login\n",
    "    'count': [5],                  # Low count of connections to the same host\n",
    "    'srv_count': [5],              # Low count of connections to the same service\n",
    "    'serror_rate': [0.0],          # No serror rate (0%)\n",
    "    'rerror_rate': [0.0],          # No rerror rate (0%)\n",
    "    'same_srv_rate': [1.0],        # High rate of connections to the same service\n",
    "    'diff_srv_rate': [0.0],        # Low rate of different services\n",
    "    'srv_diff_host_rate': [0.0],   # Low rate of different hosts for the same service\n",
    "    'dst_host_count': [255],       # Maximum number of connections to the same destination host\n",
    "    'dst_host_srv_count': [255],   # Maximum number of connections to the same destination host service\n",
    "    'dst_host_diff_srv_rate': [0.0],  # Low rate of different services on the same destination host\n",
    "    'dst_host_same_src_port_rate': [1.0],  # High rate of connections from the same source port\n",
    "    'dst_host_srv_diff_host_rate': [0.0]   # Low rate of different destination hosts for the same service\n",
    "})\n"
   ]
  },
  {
   "cell_type": "code",
   "execution_count": 16,
   "metadata": {},
   "outputs": [],
   "source": [
    "data_nor = pd.DataFrame({\n",
    "    'duration': [0],\n",
    "    'protocol_type': ['0'],\n",
    "    'flag': [0],\n",
    "    'src_bytes': [215],\n",
    "    'dst_bytes': [450],\n",
    "    'land': [0],\n",
    "    'wrong_fragment': [0],\n",
    "    'urgent': [0],\n",
    "    'hot': [0],\n",
    "    'num_failed_logins': [0],\n",
    "    'logged_in': [1],\n",
    "    'num_compromised': [0],\n",
    "    'root_shell': [0],\n",
    "    'su_attempted': [0],\n",
    "    'num_file_creations': [0],\n",
    "    'num_shells': [0],\n",
    "    'num_access_files': [0],\n",
    "    'num_outbound_cmds': [0],\n",
    "    'is_host_login': [0],\n",
    "    'is_guest_login': [0],\n",
    "    'count': [1],\n",
    "    'srv_count': [1],\n",
    "    'serror_rate': [0.0],\n",
    "    'rerror_rate': [0.0],\n",
    "    'same_srv_rate': [1.0],\n",
    "    'diff_srv_rate': [0.0],\n",
    "    'srv_diff_host_rate': [0.0],\n",
    "    'dst_host_count': [255],\n",
    "    'dst_host_srv_count': [255],\n",
    "    'dst_host_diff_srv_rate': [0.0],\n",
    "    'dst_host_same_src_port_rate': [1.0],\n",
    "    'dst_host_srv_diff_host_rate': [0.0]\n",
    "})"
   ]
  },
  {
   "cell_type": "code",
   "execution_count": 17,
   "metadata": {},
   "outputs": [],
   "source": [
    "data_nor.to_pickle(\"data_nor.df\")"
   ]
  },
  {
   "cell_type": "code",
   "execution_count": 28,
   "metadata": {},
   "outputs": [],
   "source": [
    "\n",
    "\n",
    "data_normal1 = pd.DataFrame({\n",
    "    'duration': [0],               # Duration of the connection\n",
    "    'protocol_type': [0],          # Protocol type (0 for TCP, 1 for UDP, 2 for ICMP)\n",
    "    'flag': [1],                   # Flag indicating status of connection\n",
    "    'src_bytes': [0],              # Number of source bytes\n",
    "    'dst_bytes': [0],              # Number of destination bytes\n",
    "    'land': [0],                   # Land attack\n",
    "    'wrong_fragment': [0],         # Number of wrong fragments\n",
    "    'urgent': [0],                 # Urgent packet count\n",
    "    'hot': [0],                    # Number of \"hot\" indicators\n",
    "    'num_failed_logins': [0],      # Number of failed login attempts\n",
    "    'logged_in': [0],              # Whether user is logged in\n",
    "    'num_compromised': [0],        # Number of compromised conditions\n",
    "    'root_shell': [0],             # Whether root shell is obtained\n",
    "    'su_attempted': [0],           # Number of \"su\" root attempts\n",
    "    'num_file_creations': [0],     # Number of file creations\n",
    "    'num_shells': [0],             # Number of shell prompts\n",
    "    'num_access_files': [0],       # Number of access files\n",
    "    'num_outbound_cmds': [0],      # Number of outbound commands\n",
    "    'is_host_login': [0],          # Whether it is a host login\n",
    "    'is_guest_login': [0],         # Whether it is a guest login\n",
    "    'count': [10],                 # Number of connections to the same host\n",
    "    'srv_count': [10],             # Number of connections to the same service\n",
    "    'serror_rate': [0.0],          # % of connections that have \"SYN\" errors\n",
    "    'rerror_rate': [0.0],          # % of connections that have \"REJ\" errors\n",
    "    'same_srv_rate': [1.0],        # % of connections to the same service\n",
    "    'diff_srv_rate': [0.0],        # % of connections to different services\n",
    "    'srv_diff_host_rate': [0.0],   # % of connections to different hosts for the same service\n",
    "    'dst_host_count': [255],       # Number of connections to the same destination host\n",
    "    'dst_host_srv_count': [255],   # Number of connections to the same destination host service\n",
    "    'dst_host_diff_srv_rate': [0.0],  # % of different services on the same destination host\n",
    "    'dst_host_same_src_port_rate': [1.0],  # % of connections from the same source port\n",
    "    'dst_host_srv_diff_host_rate': [0.0]   # % of different destination hosts for the same service\n",
    "})\n",
    "\n"
   ]
  },
  {
   "cell_type": "code",
   "execution_count": 29,
   "metadata": {},
   "outputs": [],
   "source": [
    "data_normal1.to_pickle(\"data_dos.df\")"
   ]
  },
  {
   "cell_type": "code",
   "execution_count": 30,
   "metadata": {},
   "outputs": [],
   "source": [
    "new_row = pd.DataFrame({\n",
    "    'duration': [0],\n",
    "    'protocol_type': [1],\n",
    "    'flag': [0],\n",
    "    'src_bytes': [310],\n",
    "    'dst_bytes': [1881],\n",
    "    'land': [0],\n",
    "    'wrong_fragment': [0],\n",
    "    'urgent': [0],\n",
    "    'hot': [0],\n",
    "    'num_failed_logins': [0],\n",
    "    'logged_in': [1],\n",
    "    'num_compromised': [0],\n",
    "    'root_shell': [0],\n",
    "    'su_attempted': [0],\n",
    "    'num_file_creations': [0],\n",
    "    'num_shells': [0],\n",
    "    'num_access_files': [0],\n",
    "    'num_outbound_cmds': [0],\n",
    "    'is_host_login': [0],\n",
    "    'is_guest_login': [4],\n",
    "    'count': [5],\n",
    "    'srv_count': [0.0],\n",
    "    'serror_rate': [1.0],\n",
    "    'rerror_rate': [0.0],\n",
    "    'same_srv_rate': [0.0],\n",
    "    'diff_srv_rate': [0.01],\n",
    "    'srv_diff_host_rate': [0.05],\n",
    "    'dst_host_count': [86],\n",
    "    'dst_host_srv_count': [255],\n",
    "    'dst_host_diff_srv_rate': [0.0],\n",
    "    'dst_host_same_src_port_rate': [0.4],\n",
    "    'dst_host_srv_diff_host_rate': [0.0]\n",
    "})\n",
    "\n",
    "\n",
    "\n"
   ]
  },
  {
   "cell_type": "code",
   "execution_count": 31,
   "metadata": {},
   "outputs": [],
   "source": [
    "new_row.to_pickle(\"sample2.df\")"
   ]
  },
  {
   "cell_type": "code",
   "execution_count": null,
   "metadata": {},
   "outputs": [],
   "source": [
    "data.shape"
   ]
  },
  {
   "cell_type": "code",
   "execution_count": 33,
   "metadata": {},
   "outputs": [],
   "source": [
    "from sklearn.preprocessing import LabelEncoder\n",
    "le = LabelEncoder()\n",
    "data['protocol_type'] = le.fit_transform(data['protocol_type'])\n",
    "data['flag'] = le.fit_transform(data['flag'])"
   ]
  },
  {
   "cell_type": "code",
   "execution_count": null,
   "metadata": {},
   "outputs": [],
   "source": [
    "# start_time = time.time()\n",
    "Y_test_pred6 = GB_exported.predict(from_sample)\n",
    "# end_time = time.time()\n",
    "print(Y_test_pred6 + DE )"
   ]
  },
  {
   "cell_type": "code",
   "execution_count": null,
   "metadata": {},
   "outputs": [],
   "source": [
    "# start_time = time.time()\n",
    "Y_test_pred6 = GB_exported.predict(data1)\n",
    "# end_time = time.time()\n",
    "print(Y_test_pred6 + DE )"
   ]
  },
  {
   "cell_type": "code",
   "execution_count": null,
   "metadata": {},
   "outputs": [],
   "source": [
    "# start_time = time.time()\n",
    "Y_test_pred6 = GB_exported.predict(data2)\n",
    "# end_time = time.time()\n",
    "print(Y_test_pred6 + DE )"
   ]
  },
  {
   "cell_type": "code",
   "execution_count": null,
   "metadata": {},
   "outputs": [],
   "source": [
    "start_time = time.time()\n",
    "Y_test_pred6 = GB_exported.predict(data_normal)\n",
    "end_time = time.time()\n",
    "print(Y_test_pred6 + DE )"
   ]
  },
  {
   "cell_type": "code",
   "execution_count": null,
   "metadata": {},
   "outputs": [],
   "source": [
    "start_time = time.time()\n",
    "Y_test_pred6 = GB_exported.predict(data_normal1)\n",
    "end_time = time.time()\n",
    "print(Y_test_pred6 + DE )"
   ]
  },
  {
   "cell_type": "code",
   "execution_count": null,
   "metadata": {},
   "outputs": [],
   "source": [
    "start_time = time.time()\n",
    "Y_test_pred6 = GB_exported.predict(new_row)\n",
    "end_time = time.time()\n",
    "print(Y_test_pred6 + DE )"
   ]
  }
 ],
 "metadata": {
  "kernelspec": {
   "display_name": "ai-demo",
   "language": "python",
   "name": "python3"
  },
  "language_info": {
   "codemirror_mode": {
    "name": "ipython",
    "version": 3
   },
   "file_extension": ".py",
   "mimetype": "text/x-python",
   "name": "python",
   "nbconvert_exporter": "python",
   "pygments_lexer": "ipython3",
   "version": "3.11.8"
  }
 },
 "nbformat": 4,
 "nbformat_minor": 2
}
