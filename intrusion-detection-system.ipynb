{
 "cells": [
  {
   "cell_type": "code",
   "execution_count": 1,
   "metadata": {
    "execution": {
     "iopub.execute_input": "2021-07-02T08:24:09.408462Z",
     "iopub.status.busy": "2021-07-02T08:24:09.408124Z",
     "iopub.status.idle": "2021-07-02T08:24:10.153785Z",
     "shell.execute_reply": "2021-07-02T08:24:10.153013Z",
     "shell.execute_reply.started": "2021-07-02T08:24:09.408431Z"
    },
    "scrolled": true,
    "trusted": true
   },
   "outputs": [],
   "source": [
    "import os\n",
    "import pandas as pd\n",
    "import numpy as np\n",
    "import matplotlib.pyplot as plt\n",
    "import seaborn as sns\n",
    "import time"
   ]
  },
  {
   "cell_type": "code",
   "execution_count": null,
   "metadata": {
    "execution": {
     "iopub.execute_input": "2021-07-02T08:24:10.156343Z",
     "iopub.status.busy": "2021-07-02T08:24:10.155989Z",
     "iopub.status.idle": "2021-07-02T08:24:10.173266Z",
     "shell.execute_reply": "2021-07-02T08:24:10.172615Z",
     "shell.execute_reply.started": "2021-07-02T08:24:10.156305Z"
    },
    "scrolled": true,
    "trusted": true
   },
   "outputs": [],
   "source": [
    "print(os.listdir('Dataset'))"
   ]
  },
  {
   "cell_type": "code",
   "execution_count": null,
   "metadata": {
    "execution": {
     "iopub.execute_input": "2021-07-02T08:24:10.176700Z",
     "iopub.status.busy": "2021-07-02T08:24:10.176304Z",
     "iopub.status.idle": "2021-07-02T08:24:10.186891Z",
     "shell.execute_reply": "2021-07-02T08:24:10.185817Z",
     "shell.execute_reply.started": "2021-07-02T08:24:10.176663Z"
    },
    "trusted": true
   },
   "outputs": [],
   "source": [
    "with open(\"Dataset/kddcup.names\",'r') as f:\n",
    "    print(f.read())"
   ]
  },
  {
   "cell_type": "code",
   "execution_count": null,
   "metadata": {
    "execution": {
     "iopub.execute_input": "2021-07-02T08:24:10.188477Z",
     "iopub.status.busy": "2021-07-02T08:24:10.188116Z",
     "iopub.status.idle": "2021-07-02T08:24:10.195673Z",
     "shell.execute_reply": "2021-07-02T08:24:10.194641Z",
     "shell.execute_reply.started": "2021-07-02T08:24:10.188442Z"
    },
    "trusted": true
   },
   "outputs": [],
   "source": [
    "cols=\"\"\"duration,\n",
    "protocol_type,\n",
    "service,\n",
    "flag,\n",
    "src_bytes,\n",
    "dst_bytes,\n",
    "land,\n",
    "wrong_fragment,\n",
    "urgent,\n",
    "hot,\n",
    "num_failed_logins,\n",
    "logged_in,\n",
    "num_compromised,\n",
    "root_shell,\n",
    "su_attempted,\n",
    "num_root,\n",
    "num_file_creations,\n",
    "num_shells,\n",
    "num_access_files,\n",
    "num_outbound_cmds,\n",
    "is_host_login,\n",
    "is_guest_login,\n",
    "count,\n",
    "srv_count,\n",
    "serror_rate,\n",
    "srv_serror_rate,\n",
    "rerror_rate,\n",
    "srv_rerror_rate,\n",
    "same_srv_rate,\n",
    "diff_srv_rate,\n",
    "srv_diff_host_rate,\n",
    "dst_host_count,\n",
    "dst_host_srv_count,\n",
    "dst_host_same_srv_rate,\n",
    "dst_host_diff_srv_rate,\n",
    "dst_host_same_src_port_rate,\n",
    "dst_host_srv_diff_host_rate,\n",
    "dst_host_serror_rate,\n",
    "dst_host_srv_serror_rate,\n",
    "dst_host_rerror_rate,\n",
    "dst_host_srv_rerror_rate\"\"\"\n",
    "\n",
    "columns=[]\n",
    "for c in cols.split(','):\n",
    "    if(c.strip()):\n",
    "       columns.append(c.strip())\n",
    "\n",
    "columns.append('target')\n",
    "#print(columns)\n",
    "print(len(columns))"
   ]
  },
  {
   "cell_type": "code",
   "execution_count": null,
   "metadata": {
    "execution": {
     "iopub.execute_input": "2021-07-02T08:24:10.203060Z",
     "iopub.status.busy": "2021-07-02T08:24:10.202287Z",
     "iopub.status.idle": "2021-07-02T08:24:10.219944Z",
     "shell.execute_reply": "2021-07-02T08:24:10.218901Z",
     "shell.execute_reply.started": "2021-07-02T08:24:10.202984Z"
    },
    "trusted": true
   },
   "outputs": [],
   "source": [
    "with open(\"Dataset/training_attack_types\",'r') as f:\n",
    "    print(f.read())"
   ]
  },
  {
   "cell_type": "code",
   "execution_count": 12,
   "metadata": {
    "execution": {
     "iopub.execute_input": "2021-07-02T08:24:10.223514Z",
     "iopub.status.busy": "2021-07-02T08:24:10.222665Z",
     "iopub.status.idle": "2021-07-02T08:24:10.236015Z",
     "shell.execute_reply": "2021-07-02T08:24:10.234812Z",
     "shell.execute_reply.started": "2021-07-02T08:24:10.223469Z"
    },
    "trusted": true
   },
   "outputs": [],
   "source": [
    "attacks_types = {\n",
    "    'normal': 'normal',\n",
    "'back': 'dos',\n",
    "'buffer_overflow': 'u2r',\n",
    "'ftp_write': 'r2l',\n",
    "'guess_passwd': 'r2l',\n",
    "'imap': 'r2l',\n",
    "'ipsweep': 'probe',\n",
    "'land': 'dos',\n",
    "'loadmodule': 'u2r',\n",
    "'multihop': 'r2l',\n",
    "'neptune': 'dos',\n",
    "'nmap': 'probe',\n",
    "'perl': 'u2r',\n",
    "'phf': 'r2l',\n",
    "'pod': 'dos',\n",
    "'portsweep': 'probe',\n",
    "'rootkit': 'u2r',\n",
    "'satan': 'probe',\n",
    "'smurf': 'dos',\n",
    "'spy': 'r2l',\n",
    "'teardrop': 'dos',\n",
    "'warezclient': 'r2l',\n",
    "'warezmaster': 'r2l',\n",
    "}\n"
   ]
  },
  {
   "cell_type": "markdown",
   "metadata": {},
   "source": [
    "READING DATASET"
   ]
  },
  {
   "cell_type": "code",
   "execution_count": null,
   "metadata": {
    "execution": {
     "iopub.execute_input": "2021-07-02T08:24:10.240046Z",
     "iopub.status.busy": "2021-07-02T08:24:10.238966Z",
     "iopub.status.idle": "2021-07-02T08:24:12.429014Z",
     "shell.execute_reply": "2021-07-02T08:24:12.428303Z",
     "shell.execute_reply.started": "2021-07-02T08:24:10.239999Z"
    },
    "trusted": true
   },
   "outputs": [],
   "source": [
    "path = \"Dataset/kddcup.data_10_percent.gz\"\n",
    "df = pd.read_csv(path,names=columns)\n",
    "\n",
    "#Adding Attack Type column\n",
    "df['Attack Type'] = df.target.apply(lambda r:attacks_types[r[:-1]])\n",
    "\n",
    "df.head()"
   ]
  },
  {
   "cell_type": "code",
   "execution_count": null,
   "metadata": {
    "execution": {
     "iopub.execute_input": "2021-07-02T08:24:12.430915Z",
     "iopub.status.busy": "2021-07-02T08:24:12.430579Z",
     "iopub.status.idle": "2021-07-02T08:24:12.439622Z",
     "shell.execute_reply": "2021-07-02T08:24:12.438472Z",
     "shell.execute_reply.started": "2021-07-02T08:24:12.430878Z"
    },
    "trusted": true
   },
   "outputs": [],
   "source": [
    "df.shape"
   ]
  },
  {
   "cell_type": "code",
   "execution_count": null,
   "metadata": {
    "execution": {
     "iopub.execute_input": "2021-07-02T08:24:12.442400Z",
     "iopub.status.busy": "2021-07-02T08:24:12.441674Z",
     "iopub.status.idle": "2021-07-02T08:24:12.556232Z",
     "shell.execute_reply": "2021-07-02T08:24:12.555206Z",
     "shell.execute_reply.started": "2021-07-02T08:24:12.442341Z"
    },
    "trusted": true
   },
   "outputs": [],
   "source": [
    "df['target'].value_counts()"
   ]
  },
  {
   "cell_type": "code",
   "execution_count": null,
   "metadata": {
    "execution": {
     "iopub.execute_input": "2021-07-02T08:24:12.558652Z",
     "iopub.status.busy": "2021-07-02T08:24:12.557927Z",
     "iopub.status.idle": "2021-07-02T08:24:12.662124Z",
     "shell.execute_reply": "2021-07-02T08:24:12.660965Z",
     "shell.execute_reply.started": "2021-07-02T08:24:12.558589Z"
    },
    "trusted": true
   },
   "outputs": [],
   "source": [
    "df['Attack Type'].value_counts()"
   ]
  },
  {
   "cell_type": "code",
   "execution_count": null,
   "metadata": {
    "execution": {
     "iopub.execute_input": "2021-07-02T08:24:12.664774Z",
     "iopub.status.busy": "2021-07-02T08:24:12.664286Z",
     "iopub.status.idle": "2021-07-02T08:24:12.677467Z",
     "shell.execute_reply": "2021-07-02T08:24:12.676021Z",
     "shell.execute_reply.started": "2021-07-02T08:24:12.664735Z"
    },
    "trusted": true
   },
   "outputs": [],
   "source": [
    "df.dtypes"
   ]
  },
  {
   "cell_type": "markdown",
   "metadata": {},
   "source": [
    "DATA PREPROCESSING"
   ]
  },
  {
   "cell_type": "code",
   "execution_count": null,
   "metadata": {
    "execution": {
     "iopub.execute_input": "2021-07-02T08:24:12.680190Z",
     "iopub.status.busy": "2021-07-02T08:24:12.679781Z",
     "iopub.status.idle": "2021-07-02T08:24:12.957128Z",
     "shell.execute_reply": "2021-07-02T08:24:12.956338Z",
     "shell.execute_reply.started": "2021-07-02T08:24:12.680147Z"
    },
    "trusted": true
   },
   "outputs": [],
   "source": [
    "df.isnull().sum()"
   ]
  },
  {
   "cell_type": "code",
   "execution_count": null,
   "metadata": {
    "execution": {
     "iopub.execute_input": "2021-07-02T08:24:12.958746Z",
     "iopub.status.busy": "2021-07-02T08:24:12.958348Z",
     "iopub.status.idle": "2021-07-02T08:24:12.969302Z",
     "shell.execute_reply": "2021-07-02T08:24:12.966910Z",
     "shell.execute_reply.started": "2021-07-02T08:24:12.958707Z"
    },
    "trusted": true
   },
   "outputs": [],
   "source": [
    "#Finding categorical features\n",
    "num_cols = df._get_numeric_data().columns\n",
    "\n",
    "cate_cols = list(set(df.columns)-set(num_cols))\n",
    "cate_cols.remove('target')\n",
    "cate_cols.remove('Attack Type')\n",
    "\n",
    "cate_cols"
   ]
  },
  {
   "cell_type": "code",
   "execution_count": null,
   "metadata": {},
   "outputs": [],
   "source": []
  },
  {
   "cell_type": "markdown",
   "metadata": {},
   "source": [
    "CATEGORICAL FEATURES DISTRIBUTION"
   ]
  },
  {
   "cell_type": "code",
   "execution_count": 20,
   "metadata": {
    "execution": {
     "iopub.execute_input": "2021-07-02T08:24:12.972272Z",
     "iopub.status.busy": "2021-07-02T08:24:12.971674Z",
     "iopub.status.idle": "2021-07-02T08:24:12.977869Z",
     "shell.execute_reply": "2021-07-02T08:24:12.976934Z",
     "shell.execute_reply.started": "2021-07-02T08:24:12.972230Z"
    },
    "trusted": true
   },
   "outputs": [],
   "source": [
    "#Visualization\n",
    "def bar_graph(feature):\n",
    "    df[feature].value_counts().plot(kind=\"bar\")"
   ]
  },
  {
   "cell_type": "code",
   "execution_count": null,
   "metadata": {
    "execution": {
     "iopub.execute_input": "2021-07-02T08:24:12.980114Z",
     "iopub.status.busy": "2021-07-02T08:24:12.979743Z",
     "iopub.status.idle": "2021-07-02T08:24:13.243606Z",
     "shell.execute_reply": "2021-07-02T08:24:13.242618Z",
     "shell.execute_reply.started": "2021-07-02T08:24:12.980075Z"
    },
    "trusted": true
   },
   "outputs": [],
   "source": [
    "bar_graph('protocol_type')"
   ]
  },
  {
   "cell_type": "markdown",
   "metadata": {},
   "source": [
    "Protocol type: We notice that ICMP is the most present in the used data, then TCP and almost 20000 packets of UDP type"
   ]
  },
  {
   "cell_type": "code",
   "execution_count": null,
   "metadata": {
    "execution": {
     "iopub.execute_input": "2021-07-02T08:24:13.245795Z",
     "iopub.status.busy": "2021-07-02T08:24:13.245382Z",
     "iopub.status.idle": "2021-07-02T08:24:13.974594Z",
     "shell.execute_reply": "2021-07-02T08:24:13.973664Z",
     "shell.execute_reply.started": "2021-07-02T08:24:13.245753Z"
    },
    "trusted": true
   },
   "outputs": [],
   "source": [
    "plt.figure(figsize=(15,3))\n",
    "bar_graph('service')"
   ]
  },
  {
   "cell_type": "code",
   "execution_count": null,
   "metadata": {
    "execution": {
     "iopub.execute_input": "2021-07-02T08:24:13.976518Z",
     "iopub.status.busy": "2021-07-02T08:24:13.976080Z",
     "iopub.status.idle": "2021-07-02T08:24:14.226843Z",
     "shell.execute_reply": "2021-07-02T08:24:14.225963Z",
     "shell.execute_reply.started": "2021-07-02T08:24:13.976481Z"
    },
    "trusted": true
   },
   "outputs": [],
   "source": [
    "bar_graph('flag')"
   ]
  },
  {
   "cell_type": "code",
   "execution_count": null,
   "metadata": {
    "execution": {
     "iopub.execute_input": "2021-07-02T08:24:14.229095Z",
     "iopub.status.busy": "2021-07-02T08:24:14.228714Z",
     "iopub.status.idle": "2021-07-02T08:24:14.347377Z",
     "shell.execute_reply": "2021-07-02T08:24:14.346117Z",
     "shell.execute_reply.started": "2021-07-02T08:24:14.229059Z"
    },
    "trusted": true
   },
   "outputs": [],
   "source": [
    "bar_graph('logged_in')"
   ]
  },
  {
   "cell_type": "markdown",
   "metadata": {},
   "source": [
    "logged_in (1 if successfully logged in; 0 otherwise): We notice that just 70000 packets are successfully logged in."
   ]
  },
  {
   "cell_type": "markdown",
   "metadata": {},
   "source": [
    "TARGET FEATURE DISTRIBUTION"
   ]
  },
  {
   "cell_type": "code",
   "execution_count": null,
   "metadata": {
    "execution": {
     "iopub.execute_input": "2021-07-02T08:24:14.349510Z",
     "iopub.status.busy": "2021-07-02T08:24:14.349074Z",
     "iopub.status.idle": "2021-07-02T08:24:14.666771Z",
     "shell.execute_reply": "2021-07-02T08:24:14.665839Z",
     "shell.execute_reply.started": "2021-07-02T08:24:14.349472Z"
    },
    "trusted": true
   },
   "outputs": [],
   "source": [
    "bar_graph('target')"
   ]
  },
  {
   "cell_type": "markdown",
   "metadata": {},
   "source": [
    "Attack Type(The attack types grouped by attack, it's what we will predict)"
   ]
  },
  {
   "cell_type": "code",
   "execution_count": null,
   "metadata": {
    "execution": {
     "iopub.execute_input": "2021-07-02T08:24:14.668821Z",
     "iopub.status.busy": "2021-07-02T08:24:14.668455Z",
     "iopub.status.idle": "2021-07-02T08:24:14.893192Z",
     "shell.execute_reply": "2021-07-02T08:24:14.892172Z",
     "shell.execute_reply.started": "2021-07-02T08:24:14.668782Z"
    },
    "trusted": true
   },
   "outputs": [],
   "source": [
    "bar_graph('Attack Type')"
   ]
  },
  {
   "cell_type": "code",
   "execution_count": null,
   "metadata": {
    "execution": {
     "iopub.execute_input": "2021-07-02T08:24:14.895143Z",
     "iopub.status.busy": "2021-07-02T08:24:14.894751Z",
     "iopub.status.idle": "2021-07-02T08:24:14.902110Z",
     "shell.execute_reply": "2021-07-02T08:24:14.901100Z",
     "shell.execute_reply.started": "2021-07-02T08:24:14.895105Z"
    },
    "trusted": true
   },
   "outputs": [],
   "source": [
    "df.columns"
   ]
  },
  {
   "cell_type": "markdown",
   "metadata": {},
   "source": [
    "DATA CORRELATION"
   ]
  },
  {
   "cell_type": "code",
   "execution_count": null,
   "metadata": {
    "execution": {
     "iopub.execute_input": "2021-07-02T08:24:14.904907Z",
     "iopub.status.busy": "2021-07-02T08:24:14.904280Z",
     "iopub.status.idle": "2021-07-02T08:24:17.395661Z",
     "shell.execute_reply": "2021-07-02T08:24:17.394669Z",
     "shell.execute_reply.started": "2021-07-02T08:24:14.904691Z"
    },
    "trusted": true
   },
   "outputs": [],
   "source": [
    "df = df.dropna(axis='columns')\n",
    "\n",
    "# Select numeric columns\n",
    "numeric_df = df.select_dtypes(include=['float64', 'int64'])\n",
    "\n",
    "# Keep columns where there are more than 1 unique value\n",
    "numeric_df = numeric_df[[col for col in numeric_df if numeric_df[col].nunique() > 1]]\n",
    "\n",
    "# Calculate correlation matrix\n",
    "corr = numeric_df.corr()\n",
    "\n",
    "# Visualize correlation matrix using heatmap\n",
    "plt.figure(figsize=(15, 12))\n",
    "sns.heatmap(corr)\n",
    "plt.title('Correlation Matrix')\n",
    "plt.show()"
   ]
  },
  {
   "cell_type": "code",
   "execution_count": null,
   "metadata": {
    "execution": {
     "iopub.execute_input": "2021-07-02T08:24:17.397061Z",
     "iopub.status.busy": "2021-07-02T08:24:17.396748Z",
     "iopub.status.idle": "2021-07-02T08:24:17.419048Z",
     "shell.execute_reply": "2021-07-02T08:24:17.417839Z",
     "shell.execute_reply.started": "2021-07-02T08:24:17.397027Z"
    },
    "trusted": true
   },
   "outputs": [],
   "source": [
    "df['num_root'].corr(df['num_compromised'])"
   ]
  },
  {
   "cell_type": "code",
   "execution_count": null,
   "metadata": {
    "execution": {
     "iopub.execute_input": "2021-07-02T08:24:17.421194Z",
     "iopub.status.busy": "2021-07-02T08:24:17.420792Z",
     "iopub.status.idle": "2021-07-02T08:24:17.436708Z",
     "shell.execute_reply": "2021-07-02T08:24:17.435708Z",
     "shell.execute_reply.started": "2021-07-02T08:24:17.421153Z"
    },
    "trusted": true
   },
   "outputs": [],
   "source": [
    "df['srv_serror_rate'].corr(df['serror_rate'])"
   ]
  },
  {
   "cell_type": "code",
   "execution_count": null,
   "metadata": {
    "execution": {
     "iopub.execute_input": "2021-07-02T08:24:17.438643Z",
     "iopub.status.busy": "2021-07-02T08:24:17.438231Z",
     "iopub.status.idle": "2021-07-02T08:24:17.454673Z",
     "shell.execute_reply": "2021-07-02T08:24:17.453698Z",
     "shell.execute_reply.started": "2021-07-02T08:24:17.438603Z"
    },
    "trusted": true
   },
   "outputs": [],
   "source": [
    "df['srv_count'].corr(df['count'])"
   ]
  },
  {
   "cell_type": "code",
   "execution_count": null,
   "metadata": {
    "execution": {
     "iopub.execute_input": "2021-07-02T08:24:17.457032Z",
     "iopub.status.busy": "2021-07-02T08:24:17.456638Z",
     "iopub.status.idle": "2021-07-02T08:24:17.472651Z",
     "shell.execute_reply": "2021-07-02T08:24:17.471650Z",
     "shell.execute_reply.started": "2021-07-02T08:24:17.456990Z"
    },
    "trusted": true
   },
   "outputs": [],
   "source": [
    "df['srv_rerror_rate'].corr(df['rerror_rate'])"
   ]
  },
  {
   "cell_type": "code",
   "execution_count": null,
   "metadata": {
    "execution": {
     "iopub.execute_input": "2021-07-02T08:24:17.475138Z",
     "iopub.status.busy": "2021-07-02T08:24:17.474717Z",
     "iopub.status.idle": "2021-07-02T08:24:17.490267Z",
     "shell.execute_reply": "2021-07-02T08:24:17.489246Z",
     "shell.execute_reply.started": "2021-07-02T08:24:17.475093Z"
    },
    "trusted": true
   },
   "outputs": [],
   "source": [
    "df['dst_host_same_srv_rate'].corr(df['dst_host_srv_count'])"
   ]
  },
  {
   "cell_type": "code",
   "execution_count": null,
   "metadata": {
    "execution": {
     "iopub.execute_input": "2021-07-02T08:24:17.492323Z",
     "iopub.status.busy": "2021-07-02T08:24:17.491957Z",
     "iopub.status.idle": "2021-07-02T08:24:17.506951Z",
     "shell.execute_reply": "2021-07-02T08:24:17.506043Z",
     "shell.execute_reply.started": "2021-07-02T08:24:17.492286Z"
    },
    "trusted": true
   },
   "outputs": [],
   "source": [
    "df['dst_host_srv_serror_rate'].corr(df['dst_host_serror_rate'])"
   ]
  },
  {
   "cell_type": "code",
   "execution_count": null,
   "metadata": {
    "execution": {
     "iopub.execute_input": "2021-07-02T08:24:17.509038Z",
     "iopub.status.busy": "2021-07-02T08:24:17.508680Z",
     "iopub.status.idle": "2021-07-02T08:24:17.522571Z",
     "shell.execute_reply": "2021-07-02T08:24:17.521678Z",
     "shell.execute_reply.started": "2021-07-02T08:24:17.509001Z"
    },
    "trusted": true
   },
   "outputs": [],
   "source": [
    "df['dst_host_srv_rerror_rate'].corr(df['dst_host_rerror_rate'])"
   ]
  },
  {
   "cell_type": "code",
   "execution_count": null,
   "metadata": {
    "execution": {
     "iopub.execute_input": "2021-07-02T08:24:17.524186Z",
     "iopub.status.busy": "2021-07-02T08:24:17.523838Z",
     "iopub.status.idle": "2021-07-02T08:24:17.537154Z",
     "shell.execute_reply": "2021-07-02T08:24:17.536073Z",
     "shell.execute_reply.started": "2021-07-02T08:24:17.524150Z"
    },
    "trusted": true
   },
   "outputs": [],
   "source": [
    "df['dst_host_same_srv_rate'].corr(df['same_srv_rate'])"
   ]
  },
  {
   "cell_type": "code",
   "execution_count": null,
   "metadata": {
    "execution": {
     "iopub.execute_input": "2021-07-02T08:24:17.539315Z",
     "iopub.status.busy": "2021-07-02T08:24:17.538922Z",
     "iopub.status.idle": "2021-07-02T08:24:17.552885Z",
     "shell.execute_reply": "2021-07-02T08:24:17.551861Z",
     "shell.execute_reply.started": "2021-07-02T08:24:17.539276Z"
    },
    "trusted": true
   },
   "outputs": [],
   "source": [
    "df['dst_host_srv_count'].corr(df['same_srv_rate'])"
   ]
  },
  {
   "cell_type": "code",
   "execution_count": null,
   "metadata": {
    "execution": {
     "iopub.execute_input": "2021-07-02T08:24:17.562711Z",
     "iopub.status.busy": "2021-07-02T08:24:17.562458Z",
     "iopub.status.idle": "2021-07-02T08:24:17.576616Z",
     "shell.execute_reply": "2021-07-02T08:24:17.575592Z",
     "shell.execute_reply.started": "2021-07-02T08:24:17.562686Z"
    },
    "trusted": true
   },
   "outputs": [],
   "source": [
    "df['dst_host_same_src_port_rate'].corr(df['srv_count'])"
   ]
  },
  {
   "cell_type": "code",
   "execution_count": null,
   "metadata": {
    "execution": {
     "iopub.execute_input": "2021-07-02T08:24:17.579352Z",
     "iopub.status.busy": "2021-07-02T08:24:17.578985Z",
     "iopub.status.idle": "2021-07-02T08:24:17.593237Z",
     "shell.execute_reply": "2021-07-02T08:24:17.592080Z",
     "shell.execute_reply.started": "2021-07-02T08:24:17.579314Z"
    },
    "trusted": true
   },
   "outputs": [],
   "source": [
    "df['dst_host_serror_rate'].corr(df['serror_rate'])"
   ]
  },
  {
   "cell_type": "code",
   "execution_count": null,
   "metadata": {
    "execution": {
     "iopub.execute_input": "2021-07-02T08:24:17.595240Z",
     "iopub.status.busy": "2021-07-02T08:24:17.594830Z",
     "iopub.status.idle": "2021-07-02T08:24:17.610537Z",
     "shell.execute_reply": "2021-07-02T08:24:17.609548Z",
     "shell.execute_reply.started": "2021-07-02T08:24:17.595196Z"
    },
    "trusted": true
   },
   "outputs": [],
   "source": [
    "df['dst_host_serror_rate'].corr(df['srv_serror_rate'])"
   ]
  },
  {
   "cell_type": "code",
   "execution_count": null,
   "metadata": {
    "execution": {
     "iopub.execute_input": "2021-07-02T08:24:17.612898Z",
     "iopub.status.busy": "2021-07-02T08:24:17.612477Z",
     "iopub.status.idle": "2021-07-02T08:24:17.627369Z",
     "shell.execute_reply": "2021-07-02T08:24:17.626378Z",
     "shell.execute_reply.started": "2021-07-02T08:24:17.612856Z"
    },
    "trusted": true
   },
   "outputs": [],
   "source": [
    "df['dst_host_srv_serror_rate'].corr(df['serror_rate'])"
   ]
  },
  {
   "cell_type": "code",
   "execution_count": null,
   "metadata": {
    "execution": {
     "iopub.execute_input": "2021-07-02T08:24:17.629707Z",
     "iopub.status.busy": "2021-07-02T08:24:17.629283Z",
     "iopub.status.idle": "2021-07-02T08:24:17.645912Z",
     "shell.execute_reply": "2021-07-02T08:24:17.644904Z",
     "shell.execute_reply.started": "2021-07-02T08:24:17.629664Z"
    },
    "trusted": true
   },
   "outputs": [],
   "source": [
    "df['dst_host_srv_serror_rate'].corr(df['srv_serror_rate'])"
   ]
  },
  {
   "cell_type": "code",
   "execution_count": null,
   "metadata": {
    "execution": {
     "iopub.execute_input": "2021-07-02T08:24:17.648164Z",
     "iopub.status.busy": "2021-07-02T08:24:17.647764Z",
     "iopub.status.idle": "2021-07-02T08:24:17.664223Z",
     "shell.execute_reply": "2021-07-02T08:24:17.663382Z",
     "shell.execute_reply.started": "2021-07-02T08:24:17.648124Z"
    },
    "trusted": true
   },
   "outputs": [],
   "source": [
    "df['dst_host_rerror_rate'].corr(df['rerror_rate'])"
   ]
  },
  {
   "cell_type": "code",
   "execution_count": null,
   "metadata": {
    "execution": {
     "iopub.execute_input": "2021-07-02T08:24:17.666410Z",
     "iopub.status.busy": "2021-07-02T08:24:17.665839Z",
     "iopub.status.idle": "2021-07-02T08:24:17.682056Z",
     "shell.execute_reply": "2021-07-02T08:24:17.681007Z",
     "shell.execute_reply.started": "2021-07-02T08:24:17.666351Z"
    },
    "trusted": true
   },
   "outputs": [],
   "source": [
    "df['dst_host_rerror_rate'].corr(df['srv_rerror_rate'])"
   ]
  },
  {
   "cell_type": "code",
   "execution_count": null,
   "metadata": {
    "execution": {
     "iopub.execute_input": "2021-07-02T08:24:17.684537Z",
     "iopub.status.busy": "2021-07-02T08:24:17.683986Z",
     "iopub.status.idle": "2021-07-02T08:24:17.700410Z",
     "shell.execute_reply": "2021-07-02T08:24:17.699205Z",
     "shell.execute_reply.started": "2021-07-02T08:24:17.684488Z"
    },
    "trusted": true
   },
   "outputs": [],
   "source": [
    "df['dst_host_srv_rerror_rate'].corr(df['rerror_rate'])"
   ]
  },
  {
   "cell_type": "code",
   "execution_count": null,
   "metadata": {
    "execution": {
     "iopub.execute_input": "2021-07-02T08:24:17.702291Z",
     "iopub.status.busy": "2021-07-02T08:24:17.701894Z",
     "iopub.status.idle": "2021-07-02T08:24:17.716663Z",
     "shell.execute_reply": "2021-07-02T08:24:17.715510Z",
     "shell.execute_reply.started": "2021-07-02T08:24:17.702241Z"
    },
    "trusted": true
   },
   "outputs": [],
   "source": [
    "df['dst_host_srv_rerror_rate'].corr(df['srv_rerror_rate'])"
   ]
  },
  {
   "cell_type": "code",
   "execution_count": 47,
   "metadata": {
    "execution": {
     "iopub.execute_input": "2021-07-02T08:24:17.718598Z",
     "iopub.status.busy": "2021-07-02T08:24:17.718173Z",
     "iopub.status.idle": "2021-07-02T08:24:18.198120Z",
     "shell.execute_reply": "2021-07-02T08:24:18.197329Z",
     "shell.execute_reply.started": "2021-07-02T08:24:17.718555Z"
    },
    "trusted": true
   },
   "outputs": [],
   "source": [
    "#This variable is highly correlated with num_compromised and should be ignored for analysis.\n",
    "#(Correlation = 0.9938277978738366)\n",
    "df.drop('num_root',axis = 1,inplace = True)\n",
    "\n",
    "#This variable is highly correlated with serror_rate and should be ignored for analysis.\n",
    "#(Correlation = 0.9983615072725952)\n",
    "df.drop('srv_serror_rate',axis = 1,inplace = True)\n",
    "\n",
    "#This variable is highly correlated with rerror_rate and should be ignored for analysis.\n",
    "#(Correlation = 0.9947309539817937)\n",
    "df.drop('srv_rerror_rate',axis = 1, inplace=True)\n",
    "\n",
    "#This variable is highly correlated with srv_serror_rate and should be ignored for analysis.\n",
    "#(Correlation = 0.9993041091850098)\n",
    "df.drop('dst_host_srv_serror_rate',axis = 1, inplace=True)\n",
    "\n",
    "#This variable is highly correlated with rerror_rate and should be ignored for analysis.\n",
    "#(Correlation = 0.9869947924956001)\n",
    "df.drop('dst_host_serror_rate',axis = 1, inplace=True)\n",
    "\n",
    "#This variable is highly correlated with srv_rerror_rate and should be ignored for analysis.\n",
    "#(Correlation = 0.9821663427308375)\n",
    "df.drop('dst_host_rerror_rate',axis = 1, inplace=True)\n",
    "\n",
    "#This variable is highly correlated with rerror_rate and should be ignored for analysis.\n",
    "#(Correlation = 0.9851995540751249)\n",
    "df.drop('dst_host_srv_rerror_rate',axis = 1, inplace=True)\n",
    "\n",
    "#This variable is highly correlated with dst_host_srv_count and should be ignored for analysis.\n",
    "#(Correlation = 0.9736854572953938)\n",
    "df.drop('dst_host_same_srv_rate',axis = 1, inplace=True)"
   ]
  },
  {
   "cell_type": "code",
   "execution_count": null,
   "metadata": {
    "execution": {
     "iopub.execute_input": "2021-07-02T08:24:18.200236Z",
     "iopub.status.busy": "2021-07-02T08:24:18.199662Z",
     "iopub.status.idle": "2021-07-02T08:24:18.225958Z",
     "shell.execute_reply": "2021-07-02T08:24:18.225016Z",
     "shell.execute_reply.started": "2021-07-02T08:24:18.200194Z"
    },
    "trusted": true
   },
   "outputs": [],
   "source": [
    "df.head()"
   ]
  },
  {
   "cell_type": "code",
   "execution_count": null,
   "metadata": {
    "execution": {
     "iopub.execute_input": "2021-07-02T08:24:18.228195Z",
     "iopub.status.busy": "2021-07-02T08:24:18.227526Z",
     "iopub.status.idle": "2021-07-02T08:24:18.238349Z",
     "shell.execute_reply": "2021-07-02T08:24:18.237575Z",
     "shell.execute_reply.started": "2021-07-02T08:24:18.228151Z"
    },
    "trusted": true
   },
   "outputs": [],
   "source": [
    "df.shape"
   ]
  },
  {
   "cell_type": "code",
   "execution_count": null,
   "metadata": {
    "execution": {
     "iopub.execute_input": "2021-07-02T08:24:18.241140Z",
     "iopub.status.busy": "2021-07-02T08:24:18.240449Z",
     "iopub.status.idle": "2021-07-02T08:24:18.248369Z",
     "shell.execute_reply": "2021-07-02T08:24:18.247322Z",
     "shell.execute_reply.started": "2021-07-02T08:24:18.241099Z"
    },
    "trusted": true
   },
   "outputs": [],
   "source": [
    "df.columns"
   ]
  },
  {
   "cell_type": "code",
   "execution_count": null,
   "metadata": {
    "execution": {
     "iopub.execute_input": "2021-07-02T08:24:18.252074Z",
     "iopub.status.busy": "2021-07-02T08:24:18.251781Z",
     "iopub.status.idle": "2021-07-02T08:24:21.362199Z",
     "shell.execute_reply": "2021-07-02T08:24:21.361212Z",
     "shell.execute_reply.started": "2021-07-02T08:24:18.252038Z"
    },
    "trusted": true
   },
   "outputs": [],
   "source": [
    "numeric_df = df.select_dtypes(include=['float64', 'int64'])\n",
    "\n",
    "# Calculate standard deviation\n",
    "df_std = numeric_df.std()\n",
    "\n",
    "# Sort standard deviations in ascending order\n",
    "df_std_sorted = df_std.sort_values(ascending=True)\n",
    "\n",
    "print(df_std_sorted)\n",
    "\n"
   ]
  },
  {
   "cell_type": "markdown",
   "metadata": {},
   "source": [
    "FEATURE MAPPING"
   ]
  },
  {
   "cell_type": "code",
   "execution_count": null,
   "metadata": {
    "execution": {
     "iopub.execute_input": "2021-07-02T08:24:21.364273Z",
     "iopub.status.busy": "2021-07-02T08:24:21.363891Z",
     "iopub.status.idle": "2021-07-02T08:24:21.476848Z",
     "shell.execute_reply": "2021-07-02T08:24:21.475959Z",
     "shell.execute_reply.started": "2021-07-02T08:24:21.364236Z"
    },
    "trusted": true
   },
   "outputs": [],
   "source": [
    "df['protocol_type'].value_counts()"
   ]
  },
  {
   "cell_type": "code",
   "execution_count": 53,
   "metadata": {
    "execution": {
     "iopub.execute_input": "2021-07-02T08:24:21.478823Z",
     "iopub.status.busy": "2021-07-02T08:24:21.478468Z",
     "iopub.status.idle": "2021-07-02T08:24:21.545468Z",
     "shell.execute_reply": "2021-07-02T08:24:21.544479Z",
     "shell.execute_reply.started": "2021-07-02T08:24:21.478787Z"
    },
    "trusted": true
   },
   "outputs": [],
   "source": [
    "#protocol_type feature mapping\n",
    "pmap = {'icmp':0,'tcp':1,'udp':2}\n",
    "df['protocol_type'] = df['protocol_type'].map(pmap)"
   ]
  },
  {
   "cell_type": "code",
   "execution_count": null,
   "metadata": {
    "execution": {
     "iopub.execute_input": "2021-07-02T08:24:21.547217Z",
     "iopub.status.busy": "2021-07-02T08:24:21.546783Z",
     "iopub.status.idle": "2021-07-02T08:24:21.659342Z",
     "shell.execute_reply": "2021-07-02T08:24:21.658408Z",
     "shell.execute_reply.started": "2021-07-02T08:24:21.547179Z"
    },
    "trusted": true
   },
   "outputs": [],
   "source": [
    "df['flag'].value_counts()"
   ]
  },
  {
   "cell_type": "code",
   "execution_count": 55,
   "metadata": {
    "execution": {
     "iopub.execute_input": "2021-07-02T08:24:21.661361Z",
     "iopub.status.busy": "2021-07-02T08:24:21.660912Z",
     "iopub.status.idle": "2021-07-02T08:24:21.728810Z",
     "shell.execute_reply": "2021-07-02T08:24:21.727813Z",
     "shell.execute_reply.started": "2021-07-02T08:24:21.661307Z"
    },
    "trusted": true
   },
   "outputs": [],
   "source": [
    "#flag feature mapping\n",
    "fmap = {'SF':0,'S0':1,'REJ':2,'RSTR':3,'RSTO':4,'SH':5 ,'S1':6 ,'S2':7,'RSTOS0':8,'S3':9 ,'OTH':10}\n",
    "df['flag'] = df['flag'].map(fmap)"
   ]
  },
  {
   "cell_type": "code",
   "execution_count": null,
   "metadata": {
    "execution": {
     "iopub.execute_input": "2021-07-02T08:24:21.730785Z",
     "iopub.status.busy": "2021-07-02T08:24:21.730392Z",
     "iopub.status.idle": "2021-07-02T08:24:21.757544Z",
     "shell.execute_reply": "2021-07-02T08:24:21.756602Z",
     "shell.execute_reply.started": "2021-07-02T08:24:21.730745Z"
    },
    "trusted": true
   },
   "outputs": [],
   "source": [
    "df.head()"
   ]
  },
  {
   "cell_type": "code",
   "execution_count": 57,
   "metadata": {
    "execution": {
     "iopub.execute_input": "2021-07-02T08:24:21.759488Z",
     "iopub.status.busy": "2021-07-02T08:24:21.758915Z",
     "iopub.status.idle": "2021-07-02T08:24:21.874494Z",
     "shell.execute_reply": "2021-07-02T08:24:21.873418Z",
     "shell.execute_reply.started": "2021-07-02T08:24:21.759439Z"
    },
    "trusted": true
   },
   "outputs": [],
   "source": [
    "df.drop('service',axis = 1,inplace= True)"
   ]
  },
  {
   "cell_type": "code",
   "execution_count": null,
   "metadata": {
    "execution": {
     "iopub.execute_input": "2021-07-02T08:24:21.876351Z",
     "iopub.status.busy": "2021-07-02T08:24:21.875902Z",
     "iopub.status.idle": "2021-07-02T08:24:21.883251Z",
     "shell.execute_reply": "2021-07-02T08:24:21.881869Z",
     "shell.execute_reply.started": "2021-07-02T08:24:21.876311Z"
    },
    "trusted": true
   },
   "outputs": [],
   "source": [
    "df.shape"
   ]
  },
  {
   "cell_type": "code",
   "execution_count": null,
   "metadata": {
    "execution": {
     "iopub.execute_input": "2021-07-02T08:24:21.885444Z",
     "iopub.status.busy": "2021-07-02T08:24:21.884988Z",
     "iopub.status.idle": "2021-07-02T08:24:21.914898Z",
     "shell.execute_reply": "2021-07-02T08:24:21.913822Z",
     "shell.execute_reply.started": "2021-07-02T08:24:21.885400Z"
    },
    "trusted": true
   },
   "outputs": [],
   "source": [
    "df.head()"
   ]
  },
  {
   "cell_type": "code",
   "execution_count": null,
   "metadata": {},
   "outputs": [],
   "source": []
  },
  {
   "cell_type": "code",
   "execution_count": null,
   "metadata": {},
   "outputs": [],
   "source": []
  },
  {
   "cell_type": "code",
   "execution_count": null,
   "metadata": {
    "execution": {
     "iopub.execute_input": "2021-07-02T08:24:21.917336Z",
     "iopub.status.busy": "2021-07-02T08:24:21.916819Z",
     "iopub.status.idle": "2021-07-02T08:24:21.928763Z",
     "shell.execute_reply": "2021-07-02T08:24:21.927636Z",
     "shell.execute_reply.started": "2021-07-02T08:24:21.917293Z"
    },
    "trusted": true
   },
   "outputs": [],
   "source": [
    "df.dtypes"
   ]
  },
  {
   "cell_type": "markdown",
   "metadata": {},
   "source": [
    "MODELLING"
   ]
  },
  {
   "cell_type": "code",
   "execution_count": 61,
   "metadata": {
    "execution": {
     "iopub.execute_input": "2021-07-02T08:24:21.931110Z",
     "iopub.status.busy": "2021-07-02T08:24:21.930690Z",
     "iopub.status.idle": "2021-07-02T08:24:22.031076Z",
     "shell.execute_reply": "2021-07-02T08:24:22.030413Z",
     "shell.execute_reply.started": "2021-07-02T08:24:21.931057Z"
    },
    "trusted": true
   },
   "outputs": [],
   "source": [
    "from sklearn.model_selection import train_test_split\n",
    "from sklearn.preprocessing import MinMaxScaler\n",
    "from sklearn.metrics import accuracy_score"
   ]
  },
  {
   "cell_type": "code",
   "execution_count": null,
   "metadata": {
    "execution": {
     "iopub.execute_input": "2021-07-02T08:24:22.032763Z",
     "iopub.status.busy": "2021-07-02T08:24:22.032437Z",
     "iopub.status.idle": "2021-07-02T08:24:22.540786Z",
     "shell.execute_reply": "2021-07-02T08:24:22.539217Z",
     "shell.execute_reply.started": "2021-07-02T08:24:22.032730Z"
    },
    "trusted": true
   },
   "outputs": [],
   "source": [
    "df = df.drop(['target',], axis=1)\n",
    "print(df.shape)\n",
    "\n",
    "# Target variable and train set\n",
    "Y = df[['Attack Type']]\n",
    "X = df.drop(['Attack Type',], axis=1)\n",
    "\n",
    "sc = MinMaxScaler()\n",
    "X = sc.fit_transform(X)\n",
    "\n",
    "# Split test and train data \n",
    "X_train, X_test, Y_train, Y_test = train_test_split(X, Y, test_size=0.33, random_state=42)\n",
    "print(X_train.shape, X_test.shape)\n",
    "print(Y_train.shape, Y_test.shape)"
   ]
  },
  {
   "cell_type": "code",
   "execution_count": 63,
   "metadata": {},
   "outputs": [],
   "source": [
    "# df.to_csv(\"/Users/akhilsamvarghese/Desktop/Projects/ai-tutorial/nids/DATA_FRAME.csv\", index=False)"
   ]
  },
  {
   "cell_type": "markdown",
   "metadata": {},
   "source": [
    "GAUSSIAN NAIVE BAYES"
   ]
  },
  {
   "cell_type": "code",
   "execution_count": 64,
   "metadata": {
    "execution": {
     "iopub.execute_input": "2021-07-02T08:24:22.542495Z",
     "iopub.status.busy": "2021-07-02T08:24:22.542128Z",
     "iopub.status.idle": "2021-07-02T08:24:22.549133Z",
     "shell.execute_reply": "2021-07-02T08:24:22.548400Z",
     "shell.execute_reply.started": "2021-07-02T08:24:22.542457Z"
    },
    "trusted": true
   },
   "outputs": [],
   "source": [
    "# Gaussian Naive Bayes\n",
    "from sklearn.naive_bayes import GaussianNB"
   ]
  },
  {
   "cell_type": "code",
   "execution_count": 65,
   "metadata": {
    "execution": {
     "iopub.execute_input": "2021-07-02T08:24:22.551537Z",
     "iopub.status.busy": "2021-07-02T08:24:22.551023Z",
     "iopub.status.idle": "2021-07-02T08:24:22.558353Z",
     "shell.execute_reply": "2021-07-02T08:24:22.557376Z",
     "shell.execute_reply.started": "2021-07-02T08:24:22.551498Z"
    },
    "trusted": true
   },
   "outputs": [],
   "source": [
    "model1 = GaussianNB()"
   ]
  },
  {
   "cell_type": "code",
   "execution_count": 66,
   "metadata": {
    "execution": {
     "iopub.execute_input": "2021-07-02T08:24:22.560025Z",
     "iopub.status.busy": "2021-07-02T08:24:22.559651Z",
     "iopub.status.idle": "2021-07-02T08:24:23.616863Z",
     "shell.execute_reply": "2021-07-02T08:24:23.616093Z",
     "shell.execute_reply.started": "2021-07-02T08:24:22.559983Z"
    },
    "trusted": true
   },
   "outputs": [],
   "source": [
    "start_time = time.time()\n",
    "model1.fit(X_train, Y_train.values.ravel())\n",
    "end_time = time.time()"
   ]
  },
  {
   "cell_type": "code",
   "execution_count": null,
   "metadata": {
    "execution": {
     "iopub.execute_input": "2021-07-02T08:24:23.618357Z",
     "iopub.status.busy": "2021-07-02T08:24:23.618010Z",
     "iopub.status.idle": "2021-07-02T08:24:23.623106Z",
     "shell.execute_reply": "2021-07-02T08:24:23.622273Z",
     "shell.execute_reply.started": "2021-07-02T08:24:23.618321Z"
    },
    "trusted": true
   },
   "outputs": [],
   "source": [
    "print(\"Training time: \",end_time-start_time)"
   ]
  },
  {
   "cell_type": "code",
   "execution_count": 68,
   "metadata": {
    "execution": {
     "iopub.execute_input": "2021-07-02T08:24:23.625021Z",
     "iopub.status.busy": "2021-07-02T08:24:23.624488Z",
     "iopub.status.idle": "2021-07-02T08:24:23.826442Z",
     "shell.execute_reply": "2021-07-02T08:24:23.825645Z",
     "shell.execute_reply.started": "2021-07-02T08:24:23.624933Z"
    },
    "trusted": true
   },
   "outputs": [],
   "source": [
    "start_time = time.time()\n",
    "Y_test_pred1 = model1.predict(X_test)\n",
    "end_time = time.time()"
   ]
  },
  {
   "cell_type": "code",
   "execution_count": null,
   "metadata": {
    "execution": {
     "iopub.execute_input": "2021-07-02T08:24:23.829645Z",
     "iopub.status.busy": "2021-07-02T08:24:23.829280Z",
     "iopub.status.idle": "2021-07-02T08:24:23.834567Z",
     "shell.execute_reply": "2021-07-02T08:24:23.833568Z",
     "shell.execute_reply.started": "2021-07-02T08:24:23.829616Z"
    },
    "trusted": true
   },
   "outputs": [],
   "source": [
    "print(\"Testing time: \",end_time-start_time)"
   ]
  },
  {
   "cell_type": "code",
   "execution_count": null,
   "metadata": {
    "execution": {
     "iopub.execute_input": "2021-07-02T08:24:23.836653Z",
     "iopub.status.busy": "2021-07-02T08:24:23.836003Z",
     "iopub.status.idle": "2021-07-02T08:24:25.015906Z",
     "shell.execute_reply": "2021-07-02T08:24:25.014895Z",
     "shell.execute_reply.started": "2021-07-02T08:24:23.836613Z"
    },
    "trusted": true
   },
   "outputs": [],
   "source": [
    "print(\"Train score is:\", model1.score(X_train, Y_train))\n",
    "print(\"Test score is:\",model1.score(X_test,Y_test))"
   ]
  },
  {
   "cell_type": "markdown",
   "metadata": {},
   "source": [
    "DECISION TREE"
   ]
  },
  {
   "cell_type": "code",
   "execution_count": 71,
   "metadata": {
    "execution": {
     "iopub.execute_input": "2021-07-02T08:24:25.017914Z",
     "iopub.status.busy": "2021-07-02T08:24:25.017335Z",
     "iopub.status.idle": "2021-07-02T08:24:25.163253Z",
     "shell.execute_reply": "2021-07-02T08:24:25.162357Z",
     "shell.execute_reply.started": "2021-07-02T08:24:25.017871Z"
    },
    "trusted": true
   },
   "outputs": [],
   "source": [
    "#Decision Tree \n",
    "from sklearn.tree import DecisionTreeClassifier"
   ]
  },
  {
   "cell_type": "code",
   "execution_count": 72,
   "metadata": {
    "execution": {
     "iopub.execute_input": "2021-07-02T08:24:25.164979Z",
     "iopub.status.busy": "2021-07-02T08:24:25.164562Z",
     "iopub.status.idle": "2021-07-02T08:24:25.170553Z",
     "shell.execute_reply": "2021-07-02T08:24:25.169277Z",
     "shell.execute_reply.started": "2021-07-02T08:24:25.164935Z"
    },
    "trusted": true
   },
   "outputs": [],
   "source": [
    "model2 = DecisionTreeClassifier(criterion=\"entropy\", max_depth = 4)"
   ]
  },
  {
   "cell_type": "code",
   "execution_count": 73,
   "metadata": {
    "execution": {
     "iopub.execute_input": "2021-07-02T08:24:25.172662Z",
     "iopub.status.busy": "2021-07-02T08:24:25.172220Z",
     "iopub.status.idle": "2021-07-02T08:24:26.398705Z",
     "shell.execute_reply": "2021-07-02T08:24:26.397900Z",
     "shell.execute_reply.started": "2021-07-02T08:24:25.172620Z"
    },
    "trusted": true
   },
   "outputs": [],
   "source": [
    "start_time = time.time()\n",
    "model2.fit(X_train, Y_train.values.ravel())\n",
    "end_time = time.time()"
   ]
  },
  {
   "cell_type": "code",
   "execution_count": null,
   "metadata": {
    "execution": {
     "iopub.execute_input": "2021-07-02T08:24:26.400380Z",
     "iopub.status.busy": "2021-07-02T08:24:26.400020Z",
     "iopub.status.idle": "2021-07-02T08:24:26.408323Z",
     "shell.execute_reply": "2021-07-02T08:24:26.407316Z",
     "shell.execute_reply.started": "2021-07-02T08:24:26.400342Z"
    },
    "trusted": true
   },
   "outputs": [],
   "source": [
    "print(\"Training time: \",end_time-start_time)"
   ]
  },
  {
   "cell_type": "code",
   "execution_count": 75,
   "metadata": {
    "execution": {
     "iopub.execute_input": "2021-07-02T08:24:26.410717Z",
     "iopub.status.busy": "2021-07-02T08:24:26.410274Z",
     "iopub.status.idle": "2021-07-02T08:24:26.434163Z",
     "shell.execute_reply": "2021-07-02T08:24:26.433427Z",
     "shell.execute_reply.started": "2021-07-02T08:24:26.410680Z"
    },
    "trusted": true
   },
   "outputs": [],
   "source": [
    "start_time = time.time()\n",
    "Y_test_pred2 = model2.predict(X_test)\n",
    "end_time = time.time()"
   ]
  },
  {
   "cell_type": "code",
   "execution_count": null,
   "metadata": {
    "execution": {
     "iopub.execute_input": "2021-07-02T08:24:26.435821Z",
     "iopub.status.busy": "2021-07-02T08:24:26.435441Z",
     "iopub.status.idle": "2021-07-02T08:24:26.441243Z",
     "shell.execute_reply": "2021-07-02T08:24:26.440205Z",
     "shell.execute_reply.started": "2021-07-02T08:24:26.435779Z"
    },
    "trusted": true
   },
   "outputs": [],
   "source": [
    "print(\"Testing time: \",end_time-start_time)"
   ]
  },
  {
   "cell_type": "code",
   "execution_count": null,
   "metadata": {
    "execution": {
     "iopub.execute_input": "2021-07-02T08:24:26.443496Z",
     "iopub.status.busy": "2021-07-02T08:24:26.442910Z",
     "iopub.status.idle": "2021-07-02T08:24:27.447946Z",
     "shell.execute_reply": "2021-07-02T08:24:27.447201Z",
     "shell.execute_reply.started": "2021-07-02T08:24:26.443456Z"
    },
    "trusted": true
   },
   "outputs": [],
   "source": [
    "print(\"Train score is:\", model2.score(X_train, Y_train))\n",
    "print(\"Test score is:\",model2.score(X_test,Y_test))"
   ]
  },
  {
   "cell_type": "markdown",
   "metadata": {},
   "source": [
    "RANDOM FOREST"
   ]
  },
  {
   "cell_type": "code",
   "execution_count": 78,
   "metadata": {
    "execution": {
     "iopub.execute_input": "2021-07-02T08:24:27.450986Z",
     "iopub.status.busy": "2021-07-02T08:24:27.450302Z",
     "iopub.status.idle": "2021-07-02T08:24:27.477287Z",
     "shell.execute_reply": "2021-07-02T08:24:27.476542Z",
     "shell.execute_reply.started": "2021-07-02T08:24:27.450940Z"
    },
    "trusted": true
   },
   "outputs": [],
   "source": [
    "from sklearn.ensemble import RandomForestClassifier"
   ]
  },
  {
   "cell_type": "code",
   "execution_count": 79,
   "metadata": {
    "execution": {
     "iopub.execute_input": "2021-07-02T08:24:27.478811Z",
     "iopub.status.busy": "2021-07-02T08:24:27.478454Z",
     "iopub.status.idle": "2021-07-02T08:24:27.483539Z",
     "shell.execute_reply": "2021-07-02T08:24:27.481996Z",
     "shell.execute_reply.started": "2021-07-02T08:24:27.478765Z"
    },
    "trusted": true
   },
   "outputs": [],
   "source": [
    "model3 = RandomForestClassifier(n_estimators=30)"
   ]
  },
  {
   "cell_type": "code",
   "execution_count": 80,
   "metadata": {
    "execution": {
     "iopub.execute_input": "2021-07-02T08:24:27.485355Z",
     "iopub.status.busy": "2021-07-02T08:24:27.484852Z",
     "iopub.status.idle": "2021-07-02T08:24:33.513982Z",
     "shell.execute_reply": "2021-07-02T08:24:33.512994Z",
     "shell.execute_reply.started": "2021-07-02T08:24:27.485316Z"
    },
    "trusted": true
   },
   "outputs": [],
   "source": [
    "start_time = time.time()\n",
    "model3.fit(X_train, Y_train.values.ravel())\n",
    "end_time = time.time()"
   ]
  },
  {
   "cell_type": "code",
   "execution_count": null,
   "metadata": {
    "execution": {
     "iopub.execute_input": "2021-07-02T08:24:33.515813Z",
     "iopub.status.busy": "2021-07-02T08:24:33.515404Z",
     "iopub.status.idle": "2021-07-02T08:24:33.521378Z",
     "shell.execute_reply": "2021-07-02T08:24:33.520477Z",
     "shell.execute_reply.started": "2021-07-02T08:24:33.515763Z"
    },
    "trusted": true
   },
   "outputs": [],
   "source": [
    "print(\"Training time: \",end_time-start_time)"
   ]
  },
  {
   "cell_type": "code",
   "execution_count": 82,
   "metadata": {
    "execution": {
     "iopub.execute_input": "2021-07-02T08:24:33.523243Z",
     "iopub.status.busy": "2021-07-02T08:24:33.522680Z",
     "iopub.status.idle": "2021-07-02T08:24:33.918176Z",
     "shell.execute_reply": "2021-07-02T08:24:33.916843Z",
     "shell.execute_reply.started": "2021-07-02T08:24:33.523203Z"
    },
    "trusted": true
   },
   "outputs": [],
   "source": [
    "start_time = time.time()\n",
    "Y_test_pred3 = model3.predict(X_test)\n",
    "end_time = time.time()"
   ]
  },
  {
   "cell_type": "code",
   "execution_count": null,
   "metadata": {
    "execution": {
     "iopub.execute_input": "2021-07-02T08:24:33.920141Z",
     "iopub.status.busy": "2021-07-02T08:24:33.919735Z",
     "iopub.status.idle": "2021-07-02T08:24:33.929156Z",
     "shell.execute_reply": "2021-07-02T08:24:33.927444Z",
     "shell.execute_reply.started": "2021-07-02T08:24:33.920100Z"
    },
    "trusted": true
   },
   "outputs": [],
   "source": [
    "print(\"Testing time: \",end_time-start_time)"
   ]
  },
  {
   "cell_type": "code",
   "execution_count": null,
   "metadata": {
    "execution": {
     "iopub.execute_input": "2021-07-02T08:24:33.936960Z",
     "iopub.status.busy": "2021-07-02T08:24:33.932715Z",
     "iopub.status.idle": "2021-07-02T08:24:36.140073Z",
     "shell.execute_reply": "2021-07-02T08:24:36.139353Z",
     "shell.execute_reply.started": "2021-07-02T08:24:33.936932Z"
    },
    "trusted": true
   },
   "outputs": [],
   "source": [
    "print(\"Train score is:\", model3.score(X_train, Y_train))\n",
    "print(\"Test score is:\",model3.score(X_test,Y_test))"
   ]
  },
  {
   "cell_type": "markdown",
   "metadata": {},
   "source": [
    "SUPPORT VECTOR MACHINE"
   ]
  },
  {
   "cell_type": "code",
   "execution_count": 85,
   "metadata": {
    "execution": {
     "iopub.execute_input": "2021-07-02T08:24:36.141761Z",
     "iopub.status.busy": "2021-07-02T08:24:36.141425Z",
     "iopub.status.idle": "2021-07-02T08:24:36.146272Z",
     "shell.execute_reply": "2021-07-02T08:24:36.145002Z",
     "shell.execute_reply.started": "2021-07-02T08:24:36.141723Z"
    },
    "trusted": true
   },
   "outputs": [],
   "source": [
    "from sklearn.svm import SVC"
   ]
  },
  {
   "cell_type": "code",
   "execution_count": 86,
   "metadata": {
    "execution": {
     "iopub.execute_input": "2021-07-02T08:24:36.148025Z",
     "iopub.status.busy": "2021-07-02T08:24:36.147660Z",
     "iopub.status.idle": "2021-07-02T08:24:36.158259Z",
     "shell.execute_reply": "2021-07-02T08:24:36.157479Z",
     "shell.execute_reply.started": "2021-07-02T08:24:36.147973Z"
    },
    "trusted": true
   },
   "outputs": [],
   "source": [
    "model4 = SVC(gamma = 'scale')"
   ]
  },
  {
   "cell_type": "code",
   "execution_count": 161,
   "metadata": {
    "execution": {
     "iopub.execute_input": "2021-07-02T08:24:36.161829Z",
     "iopub.status.busy": "2021-07-02T08:24:36.161547Z",
     "iopub.status.idle": "2021-07-02T08:27:00.175868Z",
     "shell.execute_reply": "2021-07-02T08:27:00.174916Z",
     "shell.execute_reply.started": "2021-07-02T08:24:36.161784Z"
    },
    "trusted": true
   },
   "outputs": [],
   "source": [
    "start_time = time.time()\n",
    "model4.fit(X_train, Y_train.values.ravel())\n",
    "end_time = time.time()"
   ]
  },
  {
   "cell_type": "code",
   "execution_count": null,
   "metadata": {
    "execution": {
     "iopub.execute_input": "2021-07-02T08:27:00.177502Z",
     "iopub.status.busy": "2021-07-02T08:27:00.177127Z",
     "iopub.status.idle": "2021-07-02T08:27:00.182339Z",
     "shell.execute_reply": "2021-07-02T08:27:00.181345Z",
     "shell.execute_reply.started": "2021-07-02T08:27:00.177466Z"
    },
    "trusted": true
   },
   "outputs": [],
   "source": [
    "print(\"Training time: \",end_time-start_time)"
   ]
  },
  {
   "cell_type": "code",
   "execution_count": 163,
   "metadata": {
    "execution": {
     "iopub.execute_input": "2021-07-02T08:27:00.184300Z",
     "iopub.status.busy": "2021-07-02T08:27:00.183741Z",
     "iopub.status.idle": "2021-07-02T08:27:40.275958Z",
     "shell.execute_reply": "2021-07-02T08:27:40.275167Z",
     "shell.execute_reply.started": "2021-07-02T08:27:00.184242Z"
    },
    "trusted": true
   },
   "outputs": [],
   "source": [
    "start_time = time.time()\n",
    "Y_test_pred4 = model4.predict(X_test)\n",
    "end_time = time.time()"
   ]
  },
  {
   "cell_type": "code",
   "execution_count": null,
   "metadata": {
    "execution": {
     "iopub.execute_input": "2021-07-02T08:27:40.277801Z",
     "iopub.status.busy": "2021-07-02T08:27:40.277457Z",
     "iopub.status.idle": "2021-07-02T08:27:40.283023Z",
     "shell.execute_reply": "2021-07-02T08:27:40.282105Z",
     "shell.execute_reply.started": "2021-07-02T08:27:40.277767Z"
    },
    "trusted": true
   },
   "outputs": [],
   "source": [
    "print(\"Testing time: \",end_time-start_time)"
   ]
  },
  {
   "cell_type": "code",
   "execution_count": null,
   "metadata": {
    "execution": {
     "iopub.execute_input": "2021-07-02T08:27:40.285040Z",
     "iopub.status.busy": "2021-07-02T08:27:40.284475Z",
     "iopub.status.idle": "2021-07-02T08:29:43.629957Z",
     "shell.execute_reply": "2021-07-02T08:29:43.629134Z",
     "shell.execute_reply.started": "2021-07-02T08:27:40.285000Z"
    },
    "trusted": true
   },
   "outputs": [],
   "source": [
    "print(\"Train score is:\", model4.score(X_train, Y_train))\n",
    "print(\"Test score is:\", model4.score(X_test,Y_test))"
   ]
  },
  {
   "cell_type": "markdown",
   "metadata": {},
   "source": [
    "LOGISTIC REGRESSION"
   ]
  },
  {
   "cell_type": "code",
   "execution_count": 166,
   "metadata": {
    "execution": {
     "iopub.execute_input": "2021-07-02T08:29:43.631684Z",
     "iopub.status.busy": "2021-07-02T08:29:43.631326Z",
     "iopub.status.idle": "2021-07-02T08:29:43.636625Z",
     "shell.execute_reply": "2021-07-02T08:29:43.635599Z",
     "shell.execute_reply.started": "2021-07-02T08:29:43.631651Z"
    },
    "trusted": true
   },
   "outputs": [],
   "source": [
    "from sklearn.linear_model import LogisticRegression"
   ]
  },
  {
   "cell_type": "code",
   "execution_count": 167,
   "metadata": {
    "execution": {
     "iopub.execute_input": "2021-07-02T08:29:43.638630Z",
     "iopub.status.busy": "2021-07-02T08:29:43.638042Z",
     "iopub.status.idle": "2021-07-02T08:29:43.648431Z",
     "shell.execute_reply": "2021-07-02T08:29:43.647584Z",
     "shell.execute_reply.started": "2021-07-02T08:29:43.638590Z"
    },
    "trusted": true
   },
   "outputs": [],
   "source": [
    "model5 = LogisticRegression(max_iter=1200000)"
   ]
  },
  {
   "cell_type": "code",
   "execution_count": null,
   "metadata": {
    "execution": {
     "iopub.execute_input": "2021-07-02T08:29:43.650601Z",
     "iopub.status.busy": "2021-07-02T08:29:43.650190Z",
     "iopub.status.idle": "2021-07-02T08:30:26.606415Z",
     "shell.execute_reply": "2021-07-02T08:30:26.605479Z",
     "shell.execute_reply.started": "2021-07-02T08:29:43.650536Z"
    },
    "trusted": true
   },
   "outputs": [],
   "source": [
    "start_time = time.time()\n",
    "model5.fit(X_train, Y_train.values.ravel())\n",
    "end_time = time.time()"
   ]
  },
  {
   "cell_type": "code",
   "execution_count": null,
   "metadata": {
    "execution": {
     "iopub.execute_input": "2021-07-02T08:30:26.607977Z",
     "iopub.status.busy": "2021-07-02T08:30:26.607623Z",
     "iopub.status.idle": "2021-07-02T08:30:26.612941Z",
     "shell.execute_reply": "2021-07-02T08:30:26.612012Z",
     "shell.execute_reply.started": "2021-07-02T08:30:26.607941Z"
    },
    "trusted": true
   },
   "outputs": [],
   "source": [
    "print(\"Training time: \",end_time-start_time)"
   ]
  },
  {
   "cell_type": "code",
   "execution_count": null,
   "metadata": {
    "execution": {
     "iopub.execute_input": "2021-07-02T08:30:26.614908Z",
     "iopub.status.busy": "2021-07-02T08:30:26.614252Z",
     "iopub.status.idle": "2021-07-02T08:30:26.645672Z",
     "shell.execute_reply": "2021-07-02T08:30:26.644884Z",
     "shell.execute_reply.started": "2021-07-02T08:30:26.614871Z"
    },
    "trusted": true
   },
   "outputs": [],
   "source": [
    "start_time = time.time()\n",
    "Y_test_pred5 = model5.predict(X_test)\n",
    "end_time = time.time()"
   ]
  },
  {
   "cell_type": "code",
   "execution_count": null,
   "metadata": {
    "execution": {
     "iopub.execute_input": "2021-07-02T08:30:26.649494Z",
     "iopub.status.busy": "2021-07-02T08:30:26.649141Z",
     "iopub.status.idle": "2021-07-02T08:30:26.654274Z",
     "shell.execute_reply": "2021-07-02T08:30:26.653260Z",
     "shell.execute_reply.started": "2021-07-02T08:30:26.649463Z"
    },
    "trusted": true
   },
   "outputs": [],
   "source": [
    "print(\"Testing time: \",end_time-start_time)"
   ]
  },
  {
   "cell_type": "code",
   "execution_count": null,
   "metadata": {
    "execution": {
     "iopub.execute_input": "2021-07-02T08:30:26.656369Z",
     "iopub.status.busy": "2021-07-02T08:30:26.655873Z",
     "iopub.status.idle": "2021-07-02T08:30:27.648114Z",
     "shell.execute_reply": "2021-07-02T08:30:27.647201Z",
     "shell.execute_reply.started": "2021-07-02T08:30:26.656332Z"
    },
    "trusted": true
   },
   "outputs": [],
   "source": [
    "print(\"Train score is:\", model5.score(X_train, Y_train))\n",
    "print(\"Test score is:\",model5.score(X_test,Y_test))"
   ]
  },
  {
   "cell_type": "markdown",
   "metadata": {},
   "source": [
    "GRADIENT BOOSTING CLASSIFIER"
   ]
  },
  {
   "cell_type": "code",
   "execution_count": 169,
   "metadata": {
    "execution": {
     "iopub.execute_input": "2021-07-02T08:30:27.649880Z",
     "iopub.status.busy": "2021-07-02T08:30:27.649499Z",
     "iopub.status.idle": "2021-07-02T08:30:27.654615Z",
     "shell.execute_reply": "2021-07-02T08:30:27.653436Z",
     "shell.execute_reply.started": "2021-07-02T08:30:27.649837Z"
    },
    "trusted": true
   },
   "outputs": [],
   "source": [
    "from sklearn.ensemble import GradientBoostingClassifier"
   ]
  },
  {
   "cell_type": "code",
   "execution_count": 170,
   "metadata": {
    "execution": {
     "iopub.execute_input": "2021-07-02T08:30:27.656835Z",
     "iopub.status.busy": "2021-07-02T08:30:27.656370Z",
     "iopub.status.idle": "2021-07-02T08:30:27.665103Z",
     "shell.execute_reply": "2021-07-02T08:30:27.664463Z",
     "shell.execute_reply.started": "2021-07-02T08:30:27.656799Z"
    },
    "trusted": true
   },
   "outputs": [],
   "source": [
    "model6 = GradientBoostingClassifier(random_state=0)"
   ]
  },
  {
   "cell_type": "code",
   "execution_count": 171,
   "metadata": {
    "execution": {
     "iopub.execute_input": "2021-07-02T08:30:27.666921Z",
     "iopub.status.busy": "2021-07-02T08:30:27.666470Z",
     "iopub.status.idle": "2021-07-02T08:35:27.536497Z",
     "shell.execute_reply": "2021-07-02T08:35:27.535671Z",
     "shell.execute_reply.started": "2021-07-02T08:30:27.666882Z"
    },
    "trusted": true
   },
   "outputs": [],
   "source": [
    "start_time = time.time()\n",
    "model6.fit(X_train, Y_train.values.ravel())\n",
    "end_time = time.time()"
   ]
  },
  {
   "cell_type": "code",
   "execution_count": null,
   "metadata": {
    "execution": {
     "iopub.execute_input": "2021-07-02T08:35:27.538087Z",
     "iopub.status.busy": "2021-07-02T08:35:27.537752Z",
     "iopub.status.idle": "2021-07-02T08:35:27.543689Z",
     "shell.execute_reply": "2021-07-02T08:35:27.541485Z",
     "shell.execute_reply.started": "2021-07-02T08:35:27.538053Z"
    },
    "trusted": true
   },
   "outputs": [],
   "source": [
    "print(\"Training time: \",end_time-start_time)"
   ]
  },
  {
   "cell_type": "code",
   "execution_count": 173,
   "metadata": {
    "execution": {
     "iopub.execute_input": "2021-07-02T08:35:27.545766Z",
     "iopub.status.busy": "2021-07-02T08:35:27.545256Z",
     "iopub.status.idle": "2021-07-02T08:35:28.296009Z",
     "shell.execute_reply": "2021-07-02T08:35:28.295238Z",
     "shell.execute_reply.started": "2021-07-02T08:35:27.545720Z"
    },
    "trusted": true
   },
   "outputs": [],
   "source": [
    "start_time = time.time()\n",
    "Y_test_pred6 = model6.predict(X_test)\n",
    "end_time = time.time()"
   ]
  },
  {
   "cell_type": "code",
   "execution_count": null,
   "metadata": {
    "execution": {
     "iopub.execute_input": "2021-07-02T08:35:28.299448Z",
     "iopub.status.busy": "2021-07-02T08:35:28.299167Z",
     "iopub.status.idle": "2021-07-02T08:35:28.304680Z",
     "shell.execute_reply": "2021-07-02T08:35:28.303710Z",
     "shell.execute_reply.started": "2021-07-02T08:35:28.299421Z"
    },
    "trusted": true
   },
   "outputs": [],
   "source": [
    "print(\"Testing time: \",end_time-start_time)"
   ]
  },
  {
   "cell_type": "code",
   "execution_count": null,
   "metadata": {
    "execution": {
     "iopub.execute_input": "2021-07-02T08:35:28.306724Z",
     "iopub.status.busy": "2021-07-02T08:35:28.306123Z",
     "iopub.status.idle": "2021-07-02T08:35:32.422834Z",
     "shell.execute_reply": "2021-07-02T08:35:32.421935Z",
     "shell.execute_reply.started": "2021-07-02T08:35:28.306686Z"
    },
    "trusted": true
   },
   "outputs": [],
   "source": [
    "print(\"Train score is:\", model6.score(X_train, Y_train))\n",
    "print(\"Test score is:\", model6.score(X_test,Y_test))"
   ]
  },
  {
   "cell_type": "code",
   "execution_count": 176,
   "metadata": {},
   "outputs": [],
   "source": [
    "import pickle\n",
    "\n",
    "pickle.dump(model6,open('/Users/akhilsamvarghese/Desktop/Projects/ai-tutorial/nids/2.saved-models/GBC_V2','wb'))"
   ]
  },
  {
   "cell_type": "markdown",
   "metadata": {},
   "source": [
    "Artificial Neural Network"
   ]
  },
  {
   "cell_type": "code",
   "execution_count": null,
   "metadata": {},
   "outputs": [],
   "source": [
    "import tensorflow as tf\n",
    "print(tf.__version__)"
   ]
  },
  {
   "cell_type": "code",
   "execution_count": null,
   "metadata": {
    "execution": {
     "iopub.execute_input": "2021-07-02T08:35:32.425981Z",
     "iopub.status.busy": "2021-07-02T08:35:32.425715Z",
     "iopub.status.idle": "2021-07-02T08:35:32.633632Z",
     "shell.execute_reply": "2021-07-02T08:35:32.632754Z",
     "shell.execute_reply.started": "2021-07-02T08:35:32.425956Z"
    },
    "trusted": true
   },
   "outputs": [],
   "source": [
    "from keras.models import Sequential\n",
    "from keras.layers import Dense\n",
    "from keras.wrappers.scikit_learn import KerasClassifier\n",
    "\n",
    "# from tensorflow.keras.models import Sequential\n",
    "# from tensorflow.keras.layers import Dense\n",
    "# from tensorflow.keras.wrappers.scikit_learn import KerasClassifier\n"
   ]
  },
  {
   "cell_type": "code",
   "execution_count": null,
   "metadata": {
    "execution": {
     "iopub.execute_input": "2021-07-02T08:35:32.635674Z",
     "iopub.status.busy": "2021-07-02T08:35:32.635307Z",
     "iopub.status.idle": "2021-07-02T08:35:32.643104Z",
     "shell.execute_reply": "2021-07-02T08:35:32.642080Z",
     "shell.execute_reply.started": "2021-07-02T08:35:32.635633Z"
    },
    "trusted": true
   },
   "outputs": [],
   "source": [
    "def fun():\n",
    "    model = Sequential()\n",
    "    \n",
    "    #here 30 is output dimension\n",
    "    model.add(Dense(30,input_dim =30,activation = 'relu',kernel_initializer='random_uniform'))\n",
    "    \n",
    "    #in next layer we do not specify the input_dim as the model is sequential so output of previous layer is input to next layer\n",
    "    model.add(Dense(1,activation='sigmoid',kernel_initializer='random_uniform'))\n",
    "    \n",
    "    #5 classes-normal,dos,probe,r2l,u2r\n",
    "    model.add(Dense(5,activation='softmax'))\n",
    "    \n",
    "    #loss is categorical_crossentropy which specifies that we have multiple classes\n",
    "    \n",
    "    model.compile(loss ='categorical_crossentropy',optimizer = 'adam',metrics = ['accuracy'])\n",
    "    \n",
    "    return model"
   ]
  },
  {
   "cell_type": "code",
   "execution_count": null,
   "metadata": {
    "execution": {
     "iopub.execute_input": "2021-07-02T08:35:32.644994Z",
     "iopub.status.busy": "2021-07-02T08:35:32.644601Z",
     "iopub.status.idle": "2021-07-02T08:35:32.658068Z",
     "shell.execute_reply": "2021-07-02T08:35:32.657150Z",
     "shell.execute_reply.started": "2021-07-02T08:35:32.644953Z"
    },
    "trusted": true
   },
   "outputs": [],
   "source": [
    "#Since,the dataset is very big and we cannot fit complete data at once so we use batch size.\n",
    "#This divides our data into batches each of size equal to batch_size.\n",
    "#Now only this number of samples will be loaded into memory and processed. \n",
    "#Once we are done with one batch it is flushed from memory and the next batch will be processed.\n",
    "model7 = KerasClassifier(build_fn=fun,epochs=100,batch_size=64)"
   ]
  },
  {
   "cell_type": "code",
   "execution_count": null,
   "metadata": {
    "execution": {
     "iopub.execute_input": "2021-07-02T08:35:32.660177Z",
     "iopub.status.busy": "2021-07-02T08:35:32.659704Z",
     "iopub.status.idle": "2021-07-02T08:53:56.341378Z",
     "shell.execute_reply": "2021-07-02T08:53:56.340641Z",
     "shell.execute_reply.started": "2021-07-02T08:35:32.660136Z"
    },
    "trusted": true
   },
   "outputs": [],
   "source": [
    "start = time.time()\n",
    "model7.fit(X_train, Y_train.values.ravel())\n",
    "end = time.time()"
   ]
  },
  {
   "cell_type": "code",
   "execution_count": null,
   "metadata": {
    "execution": {
     "iopub.execute_input": "2021-07-02T08:53:56.343067Z",
     "iopub.status.busy": "2021-07-02T08:53:56.342745Z",
     "iopub.status.idle": "2021-07-02T08:53:56.350056Z",
     "shell.execute_reply": "2021-07-02T08:53:56.348123Z",
     "shell.execute_reply.started": "2021-07-02T08:53:56.343031Z"
    },
    "trusted": true
   },
   "outputs": [],
   "source": [
    "print('Training time')\n",
    "print((end-start))"
   ]
  },
  {
   "cell_type": "code",
   "execution_count": null,
   "metadata": {
    "execution": {
     "iopub.execute_input": "2021-07-02T08:53:56.352267Z",
     "iopub.status.busy": "2021-07-02T08:53:56.351823Z",
     "iopub.status.idle": "2021-07-02T08:53:58.001556Z",
     "shell.execute_reply": "2021-07-02T08:53:58.000744Z",
     "shell.execute_reply.started": "2021-07-02T08:53:56.352184Z"
    },
    "trusted": true
   },
   "outputs": [],
   "source": [
    "start_time = time.time()\n",
    "Y_test_pred7 = model7.predict(X_test)\n",
    "end_time = time.time()"
   ]
  },
  {
   "cell_type": "code",
   "execution_count": null,
   "metadata": {
    "execution": {
     "iopub.execute_input": "2021-07-02T08:53:58.004104Z",
     "iopub.status.busy": "2021-07-02T08:53:58.003845Z",
     "iopub.status.idle": "2021-07-02T08:53:58.013438Z",
     "shell.execute_reply": "2021-07-02T08:53:58.012713Z",
     "shell.execute_reply.started": "2021-07-02T08:53:58.004079Z"
    },
    "trusted": true
   },
   "outputs": [],
   "source": [
    "print(\"Testing time: \",end_time-start_time)"
   ]
  },
  {
   "cell_type": "code",
   "execution_count": null,
   "metadata": {
    "execution": {
     "iopub.execute_input": "2021-07-02T08:53:58.016872Z",
     "iopub.status.busy": "2021-07-02T08:53:58.016627Z",
     "iopub.status.idle": "2021-07-02T08:54:01.165849Z",
     "shell.execute_reply": "2021-07-02T08:54:01.165057Z",
     "shell.execute_reply.started": "2021-07-02T08:53:58.016848Z"
    },
    "trusted": true
   },
   "outputs": [],
   "source": [
    "start_time = time.time()\n",
    "Y_train_pred7 = model7.predict(X_train)\n",
    "end_time = time.time()"
   ]
  },
  {
   "cell_type": "code",
   "execution_count": null,
   "metadata": {
    "execution": {
     "iopub.execute_input": "2021-07-02T08:54:01.167438Z",
     "iopub.status.busy": "2021-07-02T08:54:01.167096Z",
     "iopub.status.idle": "2021-07-02T08:54:01.813679Z",
     "shell.execute_reply": "2021-07-02T08:54:01.812988Z",
     "shell.execute_reply.started": "2021-07-02T08:54:01.167401Z"
    },
    "trusted": true
   },
   "outputs": [],
   "source": [
    "accuracy_score(Y_train,Y_train_pred7)"
   ]
  },
  {
   "cell_type": "code",
   "execution_count": null,
   "metadata": {
    "execution": {
     "iopub.execute_input": "2021-07-02T08:54:01.816478Z",
     "iopub.status.busy": "2021-07-02T08:54:01.816203Z",
     "iopub.status.idle": "2021-07-02T08:54:02.124020Z",
     "shell.execute_reply": "2021-07-02T08:54:02.123032Z",
     "shell.execute_reply.started": "2021-07-02T08:54:01.816451Z"
    },
    "trusted": true
   },
   "outputs": [],
   "source": [
    "accuracy_score(Y_test,Y_test_pred7)"
   ]
  },
  {
   "cell_type": "markdown",
   "metadata": {},
   "source": [
    "TRAINING ACCURACY"
   ]
  },
  {
   "cell_type": "code",
   "execution_count": null,
   "metadata": {
    "execution": {
     "iopub.execute_input": "2021-07-02T08:54:02.125907Z",
     "iopub.status.busy": "2021-07-02T08:54:02.125542Z",
     "iopub.status.idle": "2021-07-02T08:54:02.241927Z",
     "shell.execute_reply": "2021-07-02T08:54:02.240862Z",
     "shell.execute_reply.started": "2021-07-02T08:54:02.125869Z"
    },
    "trusted": true
   },
   "outputs": [],
   "source": [
    "names = ['NB','DT','RF','SVM','LR','GB','ANN']\n",
    "values = [87.951,99.058,99.997,99.875,99.352,99.793,99.914]\n",
    "f = plt.figure(figsize=(15,3),num=10)\n",
    "plt.subplot(131)\n",
    "plt.ylim(80,102)\n",
    "plt.bar(names,values)"
   ]
  },
  {
   "cell_type": "code",
   "execution_count": null,
   "metadata": {
    "execution": {
     "iopub.execute_input": "2021-07-02T08:54:02.243588Z",
     "iopub.status.busy": "2021-07-02T08:54:02.243219Z",
     "iopub.status.idle": "2021-07-02T08:54:02.328574Z",
     "shell.execute_reply": "2021-07-02T08:54:02.327790Z",
     "shell.execute_reply.started": "2021-07-02T08:54:02.243552Z"
    },
    "trusted": true
   },
   "outputs": [],
   "source": [
    "f.savefig('training_accuracy_figure.png',bbox_inches='tight')"
   ]
  },
  {
   "cell_type": "markdown",
   "metadata": {},
   "source": [
    "TESTING ACCURACY"
   ]
  },
  {
   "cell_type": "code",
   "execution_count": null,
   "metadata": {
    "execution": {
     "iopub.execute_input": "2021-07-02T08:54:02.330906Z",
     "iopub.status.busy": "2021-07-02T08:54:02.330534Z",
     "iopub.status.idle": "2021-07-02T08:54:02.449914Z",
     "shell.execute_reply": "2021-07-02T08:54:02.448621Z",
     "shell.execute_reply.started": "2021-07-02T08:54:02.330865Z"
    },
    "trusted": true
   },
   "outputs": [],
   "source": [
    "names = ['NB','DT','RF','SVM','LR','GB','ANN']\n",
    "values = [87.903,99.052,99.969,99.879,99.352,99.771,99.886]\n",
    "f = plt.figure(figsize=(15,3),num=10)\n",
    "plt.subplot(131)\n",
    "plt.ylim(80,102)\n",
    "plt.bar(names,values)"
   ]
  },
  {
   "cell_type": "code",
   "execution_count": null,
   "metadata": {
    "execution": {
     "iopub.execute_input": "2021-07-02T08:54:02.451775Z",
     "iopub.status.busy": "2021-07-02T08:54:02.451414Z",
     "iopub.status.idle": "2021-07-02T08:54:02.534336Z",
     "shell.execute_reply": "2021-07-02T08:54:02.533615Z",
     "shell.execute_reply.started": "2021-07-02T08:54:02.451737Z"
    },
    "trusted": true
   },
   "outputs": [],
   "source": [
    "f.savefig('test_accuracy_figure.png',bbox_inches='tight')"
   ]
  },
  {
   "cell_type": "markdown",
   "metadata": {},
   "source": [
    "TRAINING TIME"
   ]
  },
  {
   "cell_type": "code",
   "execution_count": null,
   "metadata": {
    "execution": {
     "iopub.execute_input": "2021-07-02T08:54:02.536441Z",
     "iopub.status.busy": "2021-07-02T08:54:02.535891Z",
     "iopub.status.idle": "2021-07-02T08:54:02.656971Z",
     "shell.execute_reply": "2021-07-02T08:54:02.656102Z",
     "shell.execute_reply.started": "2021-07-02T08:54:02.536400Z"
    },
    "trusted": true
   },
   "outputs": [],
   "source": [
    "names = ['NB','DT','RF','SVM','LR','GB','ANN']\n",
    "values = [1.04721,1.50483,11.45332,126.96016,56.67286,446.69099,1211.54094]\n",
    "f = plt.figure(figsize=(15,3),num=10)\n",
    "plt.subplot(131)\n",
    "plt.bar(names,values)"
   ]
  },
  {
   "cell_type": "code",
   "execution_count": null,
   "metadata": {
    "execution": {
     "iopub.execute_input": "2021-07-02T08:54:02.658920Z",
     "iopub.status.busy": "2021-07-02T08:54:02.658572Z",
     "iopub.status.idle": "2021-07-02T08:54:02.741657Z",
     "shell.execute_reply": "2021-07-02T08:54:02.740906Z",
     "shell.execute_reply.started": "2021-07-02T08:54:02.658883Z"
    },
    "trusted": true
   },
   "outputs": [],
   "source": [
    "f.savefig('train_time_figure.png',bbox_inches='tight')"
   ]
  },
  {
   "cell_type": "markdown",
   "metadata": {},
   "source": [
    "TESTING TIME"
   ]
  },
  {
   "cell_type": "code",
   "execution_count": null,
   "metadata": {
    "execution": {
     "iopub.execute_input": "2021-07-02T08:54:02.743423Z",
     "iopub.status.busy": "2021-07-02T08:54:02.743028Z",
     "iopub.status.idle": "2021-07-02T08:54:02.864715Z",
     "shell.execute_reply": "2021-07-02T08:54:02.863771Z",
     "shell.execute_reply.started": "2021-07-02T08:54:02.743372Z"
    },
    "trusted": true
   },
   "outputs": [],
   "source": [
    "names = ['NB','DT','RF','SVM','LR','GB','ANN']\n",
    "values = [0.79089,0.10471,0.60961,32.72654,0.02198,1.41416,1.72521]\n",
    "f = plt.figure(figsize=(15,3),num=10)\n",
    "plt.subplot(131)\n",
    "plt.bar(names,values)"
   ]
  },
  {
   "cell_type": "code",
   "execution_count": null,
   "metadata": {
    "execution": {
     "iopub.execute_input": "2021-07-02T08:54:02.867813Z",
     "iopub.status.busy": "2021-07-02T08:54:02.867567Z",
     "iopub.status.idle": "2021-07-02T08:54:02.950940Z",
     "shell.execute_reply": "2021-07-02T08:54:02.950240Z",
     "shell.execute_reply.started": "2021-07-02T08:54:02.867786Z"
    },
    "trusted": true
   },
   "outputs": [],
   "source": [
    "f.savefig('test_time_figure.png',bbox_inches='tight')"
   ]
  },
  {
   "cell_type": "code",
   "execution_count": null,
   "metadata": {},
   "outputs": [],
   "source": [
    "from scapy.all import sniff\n",
    "from scapy.layers.inet import IP, TCP, UDP\n",
    "import pandas as pd\n",
    "\n",
    "# Define a list to store captured packet information\n",
    "packet_data = []\n",
    "\n",
    "# Define a function to extract relevant features from the packet\n",
    "def extract_features(packet):\n",
    "    features = {}\n",
    "    \n",
    "    if IP in packet:\n",
    "        features['src_ip'] = packet[IP].src\n",
    "        features['dst_ip'] = packet[IP].dsta\n",
    "\n",
    "    if TCP in packet:\n",
    "        features['protocol'] = 'TCP'\n",
    "        features['src_port'] = packet[TCP].sport\n",
    "        features['dst_port'] = packet[TCP].dport\n",
    "    elif UDP in packet:\n",
    "        features['protocol'] = 'UDP'\n",
    "        features['src_port'] = packet[UDP].sport\n",
    "        features['dst_port'] = packet[UDP].dport\n",
    "    \n",
    "    # Add more features as needed\n",
    "    \n",
    "    return features\n",
    "\n",
    "# Define a function to handle each captured packet\n",
    "def handle_packet(packet):\n",
    "    if IP in packet:\n",
    "        features = extract_features(packet)\n",
    "        packet_data.append(features)\n",
    "\n",
    "# Sniff live network traffic and call handle_packet for each packet\n",
    "sniff(prn=handle_packet, count=100)  # Adjust count as needed\n",
    "\n",
    "# Convert captured data into a DataFrame\n",
    "df = pd.DataFrame(packet_data)\n",
    "\n",
    "# Display the DataFrame\n",
    "df.head()\n"
   ]
  }
 ],
 "metadata": {
  "kernelspec": {
   "display_name": "ai-demo",
   "language": "python",
   "name": "python3"
  },
  "language_info": {
   "codemirror_mode": {
    "name": "ipython",
    "version": 3
   },
   "file_extension": ".py",
   "mimetype": "text/x-python",
   "name": "python",
   "nbconvert_exporter": "python",
   "pygments_lexer": "ipython3",
   "version": "3.11.8"
  }
 },
 "nbformat": 4,
 "nbformat_minor": 4
}
